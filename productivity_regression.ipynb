{
  "nbformat": 4,
  "nbformat_minor": 0,
  "metadata": {
    "kernelspec": {
      "display_name": "Python 3",
      "language": "python",
      "name": "python3"
    },
    "language_info": {
      "codemirror_mode": {
        "name": "ipython",
        "version": 3
      },
      "file_extension": ".py",
      "mimetype": "text/x-python",
      "name": "python",
      "nbconvert_exporter": "python",
      "pygments_lexer": "ipython3",
      "version": "3.7.3"
    },
    "colab": {
      "name": "Worker Productivity Regression.ipynb",
      "provenance": [],
      "collapsed_sections": []
    }
  },
  "cells": [
    {
      "cell_type": "markdown",
      "metadata": {
        "id": "ssHKUUydJ7am"
      },
      "source": [
        "In this project, we, Tech Rays want to show our project. We use garments dataset.\n",
        "\n",
        "This dataset includes important attributes of the garment manufacturing process and the productivity of the employees which had been collected manually and also been validated by the industry experts.\n",
        "\n",
        "### Objectives\n",
        "\n",
        "This project is created to predict whether the actual productivity meets the productivity that already targeted with the variables provided by management.\n",
        "\n",
        "The other objective is also to find data discrepancies and show them to management what variables need to be reviewed.\n",
        "\n",
        "### Importing Dataset\n",
        "\n",
        "First, we need to import the dataset. We can find the dataset from [Kaggle](https://www.kaggle.com/datasets/ishadss/productivity-prediction-of-garment-employees?resource=download).\n",
        "\n",
        "Then let's `import` libraries used."
      ]
    },
    {
      "cell_type": "code",
      "metadata": {
        "id": "tsW-pAgBJ7aq"
      },
      "source": [
        "import pandas as pd\n",
        "import numpy as np\n",
        "import matplotlib.pyplot as plt\n",
        "import seaborn as sns\n",
        "sns.set_theme()\n",
        "import warnings\n",
        "warnings.filterwarnings('ignore')"
      ],
      "execution_count": 1,
      "outputs": []
    },
    {
      "cell_type": "markdown",
      "source": [
        "Now, let's just read the csv data with `pd.red_csv()` from pandas library and check the info wih `.info()` to check whether there are missing information and also to check the data types."
      ],
      "metadata": {
        "id": "casmthCzbZol"
      }
    },
    {
      "cell_type": "code",
      "source": [
        "garments = pd.read_csv('https://raw.githubusercontent.com/johannaritonang/garment_employee_productivity/main/garments_worker_productivity.csv')"
      ],
      "metadata": {
        "id": "XwqtPQjr-jWQ"
      },
      "execution_count": 2,
      "outputs": []
    },
    {
      "cell_type": "markdown",
      "source": [
        "Let's check whether the dataset has duplication or not."
      ],
      "metadata": {
        "id": "mdg10DoCGmwR"
      }
    },
    {
      "cell_type": "code",
      "source": [
        "garments.duplicated().sum()"
      ],
      "metadata": {
        "colab": {
          "base_uri": "https://localhost:8080/"
        },
        "id": "NFyf7LigGvR0",
        "outputId": "7faab916-2b39-4d9b-d2b8-fe08397af476"
      },
      "execution_count": 3,
      "outputs": [
        {
          "output_type": "execute_result",
          "data": {
            "text/plain": [
              "0"
            ]
          },
          "metadata": {},
          "execution_count": 3
        }
      ]
    },
    {
      "cell_type": "markdown",
      "source": [
        "There is no duplication in this data, which is good.\n",
        "Now, let's check the data shape."
      ],
      "metadata": {
        "id": "SunDcVmZGwnR"
      }
    },
    {
      "cell_type": "code",
      "source": [
        "garments.shape"
      ],
      "metadata": {
        "colab": {
          "base_uri": "https://localhost:8080/"
        },
        "id": "XnCxBvdWie1u",
        "outputId": "03385e7f-b4d4-4ffd-9095-6baa03a76dcb"
      },
      "execution_count": 4,
      "outputs": [
        {
          "output_type": "execute_result",
          "data": {
            "text/plain": [
              "(1197, 15)"
            ]
          },
          "metadata": {},
          "execution_count": 4
        }
      ]
    },
    {
      "cell_type": "markdown",
      "source": [
        "This dataset consists of **15 columnns** and **1,197 rows**. It's time to check the info of our data."
      ],
      "metadata": {
        "id": "6oGzu6GRG5-6"
      }
    },
    {
      "cell_type": "code",
      "metadata": {
        "id": "6vOiUocTJ7a2",
        "colab": {
          "base_uri": "https://localhost:8080/"
        },
        "outputId": "03399bdb-f696-43ff-bf65-5f703bd046ae"
      },
      "source": [
        "garments.info()"
      ],
      "execution_count": 5,
      "outputs": [
        {
          "output_type": "stream",
          "name": "stdout",
          "text": [
            "<class 'pandas.core.frame.DataFrame'>\n",
            "RangeIndex: 1197 entries, 0 to 1196\n",
            "Data columns (total 15 columns):\n",
            " #   Column                 Non-Null Count  Dtype  \n",
            "---  ------                 --------------  -----  \n",
            " 0   date                   1197 non-null   object \n",
            " 1   quarter                1197 non-null   object \n",
            " 2   department             1197 non-null   object \n",
            " 3   day                    1197 non-null   object \n",
            " 4   team                   1197 non-null   int64  \n",
            " 5   targeted_productivity  1197 non-null   float64\n",
            " 6   smv                    1197 non-null   float64\n",
            " 7   wip                    691 non-null    float64\n",
            " 8   over_time              1197 non-null   int64  \n",
            " 9   incentive              1197 non-null   int64  \n",
            " 10  idle_time              1197 non-null   float64\n",
            " 11  idle_men               1197 non-null   int64  \n",
            " 12  no_of_style_change     1197 non-null   int64  \n",
            " 13  no_of_workers          1197 non-null   float64\n",
            " 14  actual_productivity    1197 non-null   float64\n",
            "dtypes: float64(6), int64(5), object(4)\n",
            "memory usage: 140.4+ KB\n"
          ]
        }
      ]
    },
    {
      "cell_type": "markdown",
      "source": [
        "As we can see, the type of `date`, `quarter`, `department` and `day` columns are **object**. `date` column should be `datetime64[ns]`.\n",
        "\n",
        "### Data Description\n",
        "\n",
        "Garments consist of 1197 rows of data with 15 columns which contains of these informations as follow:\n",
        "\n",
        "`date` : Date in MM-DD-YYYY.\n",
        "\n",
        "`quarter` : A portion of the month. A month was divided into four quarters.\n",
        "\n",
        "`department` : Associated department with the instance.\n",
        "\n",
        "`day` : Day of the Week.\n",
        "\n",
        "`team` : Associated team number with the instance.\n",
        "\n",
        "`targeted_productivity` : Targeted productivity set by the Authority for each team for each day.\n",
        "\n",
        "`smv` : Standard Minute Value, it is the allocated time for a task.\n",
        "\n",
        "`wip` : Work in progress. Includes the number of unfinished items for products.\n",
        "\n",
        "`over_time` : Represents the amount of overtime by each team in minutes.\n",
        "\n",
        "`incentive` : Represents the amount of financial incentive (in BDT) that enables or motivates a particular course of action.\n",
        "\n",
        "`idle_time` : The amount of time when the production was interrupted due to several reasons.\n",
        "\n",
        "`idle_men` : The number of workers who were idle due to production interruption.\n",
        "\n",
        "`no_of_style_change` : Number of changes in the style of a particular product.\n",
        "\n",
        "`no_of_workers` : Number of workers in each team.\n",
        "\n",
        "`actual_productivity` : The actual % of productivity that was delivered by the workers. It ranges from 0-1.\n",
        "\n",
        "\n",
        "As we can see, the `date` is not in the correct data type, which supposed to be **datetime64[ns]**. `day` we can change to category so it can be sorted by day name and for `wip` column, half of the data is missing. Lets's do the Data Preprocessing for this dataset.\n",
        "\n",
        "### Data Preprocessing\n",
        "\n",
        "Let's explore the dataset we have.\n",
        "\n",
        "From the info, we can infer that date is object type. Let's change the data type first."
      ],
      "metadata": {
        "id": "dF_9GomRb7Fk"
      }
    },
    {
      "cell_type": "code",
      "source": [
        "garments['date'] = pd.to_datetime(garments['date'])"
      ],
      "metadata": {
        "id": "59larTMAYnQT"
      },
      "execution_count": 6,
      "outputs": []
    },
    {
      "cell_type": "code",
      "source": [
        "garments.dtypes"
      ],
      "metadata": {
        "colab": {
          "base_uri": "https://localhost:8080/"
        },
        "id": "74oo53y2aqtn",
        "outputId": "4408f53b-0329-425c-c5bd-c931aa77d249"
      },
      "execution_count": 7,
      "outputs": [
        {
          "output_type": "execute_result",
          "data": {
            "text/plain": [
              "date                     datetime64[ns]\n",
              "quarter                          object\n",
              "department                       object\n",
              "day                              object\n",
              "team                              int64\n",
              "targeted_productivity           float64\n",
              "smv                             float64\n",
              "wip                             float64\n",
              "over_time                         int64\n",
              "incentive                         int64\n",
              "idle_time                       float64\n",
              "idle_men                          int64\n",
              "no_of_style_change                int64\n",
              "no_of_workers                   float64\n",
              "actual_productivity             float64\n",
              "dtype: object"
            ]
          },
          "metadata": {},
          "execution_count": 7
        }
      ]
    },
    {
      "cell_type": "markdown",
      "source": [
        "Let's check on `quarter`."
      ],
      "metadata": {
        "id": "WL-1vXR4j-bY"
      }
    },
    {
      "cell_type": "code",
      "source": [
        "garments['quarter'].value_counts()"
      ],
      "metadata": {
        "colab": {
          "base_uri": "https://localhost:8080/"
        },
        "id": "FXcvX5IilioV",
        "outputId": "bc56e81e-df69-43de-ba80-4d4bd4b2f772"
      },
      "execution_count": 8,
      "outputs": [
        {
          "output_type": "execute_result",
          "data": {
            "text/plain": [
              "Quarter1    360\n",
              "Quarter2    335\n",
              "Quarter4    248\n",
              "Quarter3    210\n",
              "Quarter5     44\n",
              "Name: quarter, dtype: int64"
            ]
          },
          "metadata": {},
          "execution_count": 8
        }
      ]
    },
    {
      "cell_type": "markdown",
      "source": [
        "There are 5 Quarters in the data, however, there are onl 4 quarters, let's check what does it means with quarter."
      ],
      "metadata": {
        "id": "UNyAYLiwYE2G"
      }
    },
    {
      "cell_type": "code",
      "source": [
        "pd.pivot_table(garments, index = ['quarter', 'date'], aggfunc = {'date':'count'})"
      ],
      "metadata": {
        "colab": {
          "base_uri": "https://localhost:8080/",
          "height": 1000
        },
        "id": "ExVN3UZVYSFo",
        "outputId": "36b29eb5-5898-4e17-dec3-fcc7a9554f6b"
      },
      "execution_count": 9,
      "outputs": [
        {
          "output_type": "execute_result",
          "data": {
            "text/plain": [
              "                     date\n",
              "quarter  date            \n",
              "Quarter1 2015-01-01    19\n",
              "         2015-01-03    21\n",
              "         2015-01-04    21\n",
              "         2015-01-05    22\n",
              "         2015-01-06    21\n",
              "         2015-01-07    22\n",
              "         2015-02-01    19\n",
              "         2015-02-02    19\n",
              "         2015-02-03    19\n",
              "         2015-02-04    19\n",
              "         2015-02-05    18\n",
              "         2015-02-07    19\n",
              "         2015-03-01    20\n",
              "         2015-03-02    20\n",
              "         2015-03-03    22\n",
              "         2015-03-04    21\n",
              "         2015-03-05    19\n",
              "         2015-03-07    19\n",
              "Quarter2 2015-01-08    22\n",
              "         2015-01-10    22\n",
              "         2015-01-11    23\n",
              "         2015-01-12    23\n",
              "         2015-01-13    22\n",
              "         2015-01-14    21\n",
              "         2015-02-08    19\n",
              "         2015-02-09    18\n",
              "         2015-02-10    19\n",
              "         2015-02-11    19\n",
              "         2015-02-12    19\n",
              "         2015-02-14    17\n",
              "         2015-03-08    22\n",
              "         2015-03-09    22\n",
              "         2015-03-10    23\n",
              "         2015-03-11    24\n",
              "Quarter3 2015-01-15    19\n",
              "         2015-01-17    21\n",
              "         2015-01-18    19\n",
              "         2015-01-19    19\n",
              "         2015-01-20    15\n",
              "         2015-01-21    19\n",
              "         2015-02-15    19\n",
              "         2015-02-16    18\n",
              "         2015-02-17    20\n",
              "         2015-02-18    21\n",
              "         2015-02-19    20\n",
              "Quarter4 2015-01-22    22\n",
              "         2015-01-24    23\n",
              "         2015-01-25    21\n",
              "         2015-01-26    19\n",
              "         2015-01-27    21\n",
              "         2015-01-28    21\n",
              "         2015-02-22    20\n",
              "         2015-02-23    19\n",
              "         2015-02-24    19\n",
              "         2015-02-25    21\n",
              "         2015-02-26    21\n",
              "         2015-02-28    21\n",
              "Quarter5 2015-01-29    20\n",
              "         2015-01-31    24"
            ],
            "text/html": [
              "\n",
              "  <div id=\"df-2b25c2ab-fb72-4520-a089-79e470343d3a\">\n",
              "    <div class=\"colab-df-container\">\n",
              "      <div>\n",
              "<style scoped>\n",
              "    .dataframe tbody tr th:only-of-type {\n",
              "        vertical-align: middle;\n",
              "    }\n",
              "\n",
              "    .dataframe tbody tr th {\n",
              "        vertical-align: top;\n",
              "    }\n",
              "\n",
              "    .dataframe thead th {\n",
              "        text-align: right;\n",
              "    }\n",
              "</style>\n",
              "<table border=\"1\" class=\"dataframe\">\n",
              "  <thead>\n",
              "    <tr style=\"text-align: right;\">\n",
              "      <th></th>\n",
              "      <th></th>\n",
              "      <th>date</th>\n",
              "    </tr>\n",
              "    <tr>\n",
              "      <th>quarter</th>\n",
              "      <th>date</th>\n",
              "      <th></th>\n",
              "    </tr>\n",
              "  </thead>\n",
              "  <tbody>\n",
              "    <tr>\n",
              "      <th rowspan=\"18\" valign=\"top\">Quarter1</th>\n",
              "      <th>2015-01-01</th>\n",
              "      <td>19</td>\n",
              "    </tr>\n",
              "    <tr>\n",
              "      <th>2015-01-03</th>\n",
              "      <td>21</td>\n",
              "    </tr>\n",
              "    <tr>\n",
              "      <th>2015-01-04</th>\n",
              "      <td>21</td>\n",
              "    </tr>\n",
              "    <tr>\n",
              "      <th>2015-01-05</th>\n",
              "      <td>22</td>\n",
              "    </tr>\n",
              "    <tr>\n",
              "      <th>2015-01-06</th>\n",
              "      <td>21</td>\n",
              "    </tr>\n",
              "    <tr>\n",
              "      <th>2015-01-07</th>\n",
              "      <td>22</td>\n",
              "    </tr>\n",
              "    <tr>\n",
              "      <th>2015-02-01</th>\n",
              "      <td>19</td>\n",
              "    </tr>\n",
              "    <tr>\n",
              "      <th>2015-02-02</th>\n",
              "      <td>19</td>\n",
              "    </tr>\n",
              "    <tr>\n",
              "      <th>2015-02-03</th>\n",
              "      <td>19</td>\n",
              "    </tr>\n",
              "    <tr>\n",
              "      <th>2015-02-04</th>\n",
              "      <td>19</td>\n",
              "    </tr>\n",
              "    <tr>\n",
              "      <th>2015-02-05</th>\n",
              "      <td>18</td>\n",
              "    </tr>\n",
              "    <tr>\n",
              "      <th>2015-02-07</th>\n",
              "      <td>19</td>\n",
              "    </tr>\n",
              "    <tr>\n",
              "      <th>2015-03-01</th>\n",
              "      <td>20</td>\n",
              "    </tr>\n",
              "    <tr>\n",
              "      <th>2015-03-02</th>\n",
              "      <td>20</td>\n",
              "    </tr>\n",
              "    <tr>\n",
              "      <th>2015-03-03</th>\n",
              "      <td>22</td>\n",
              "    </tr>\n",
              "    <tr>\n",
              "      <th>2015-03-04</th>\n",
              "      <td>21</td>\n",
              "    </tr>\n",
              "    <tr>\n",
              "      <th>2015-03-05</th>\n",
              "      <td>19</td>\n",
              "    </tr>\n",
              "    <tr>\n",
              "      <th>2015-03-07</th>\n",
              "      <td>19</td>\n",
              "    </tr>\n",
              "    <tr>\n",
              "      <th rowspan=\"16\" valign=\"top\">Quarter2</th>\n",
              "      <th>2015-01-08</th>\n",
              "      <td>22</td>\n",
              "    </tr>\n",
              "    <tr>\n",
              "      <th>2015-01-10</th>\n",
              "      <td>22</td>\n",
              "    </tr>\n",
              "    <tr>\n",
              "      <th>2015-01-11</th>\n",
              "      <td>23</td>\n",
              "    </tr>\n",
              "    <tr>\n",
              "      <th>2015-01-12</th>\n",
              "      <td>23</td>\n",
              "    </tr>\n",
              "    <tr>\n",
              "      <th>2015-01-13</th>\n",
              "      <td>22</td>\n",
              "    </tr>\n",
              "    <tr>\n",
              "      <th>2015-01-14</th>\n",
              "      <td>21</td>\n",
              "    </tr>\n",
              "    <tr>\n",
              "      <th>2015-02-08</th>\n",
              "      <td>19</td>\n",
              "    </tr>\n",
              "    <tr>\n",
              "      <th>2015-02-09</th>\n",
              "      <td>18</td>\n",
              "    </tr>\n",
              "    <tr>\n",
              "      <th>2015-02-10</th>\n",
              "      <td>19</td>\n",
              "    </tr>\n",
              "    <tr>\n",
              "      <th>2015-02-11</th>\n",
              "      <td>19</td>\n",
              "    </tr>\n",
              "    <tr>\n",
              "      <th>2015-02-12</th>\n",
              "      <td>19</td>\n",
              "    </tr>\n",
              "    <tr>\n",
              "      <th>2015-02-14</th>\n",
              "      <td>17</td>\n",
              "    </tr>\n",
              "    <tr>\n",
              "      <th>2015-03-08</th>\n",
              "      <td>22</td>\n",
              "    </tr>\n",
              "    <tr>\n",
              "      <th>2015-03-09</th>\n",
              "      <td>22</td>\n",
              "    </tr>\n",
              "    <tr>\n",
              "      <th>2015-03-10</th>\n",
              "      <td>23</td>\n",
              "    </tr>\n",
              "    <tr>\n",
              "      <th>2015-03-11</th>\n",
              "      <td>24</td>\n",
              "    </tr>\n",
              "    <tr>\n",
              "      <th rowspan=\"11\" valign=\"top\">Quarter3</th>\n",
              "      <th>2015-01-15</th>\n",
              "      <td>19</td>\n",
              "    </tr>\n",
              "    <tr>\n",
              "      <th>2015-01-17</th>\n",
              "      <td>21</td>\n",
              "    </tr>\n",
              "    <tr>\n",
              "      <th>2015-01-18</th>\n",
              "      <td>19</td>\n",
              "    </tr>\n",
              "    <tr>\n",
              "      <th>2015-01-19</th>\n",
              "      <td>19</td>\n",
              "    </tr>\n",
              "    <tr>\n",
              "      <th>2015-01-20</th>\n",
              "      <td>15</td>\n",
              "    </tr>\n",
              "    <tr>\n",
              "      <th>2015-01-21</th>\n",
              "      <td>19</td>\n",
              "    </tr>\n",
              "    <tr>\n",
              "      <th>2015-02-15</th>\n",
              "      <td>19</td>\n",
              "    </tr>\n",
              "    <tr>\n",
              "      <th>2015-02-16</th>\n",
              "      <td>18</td>\n",
              "    </tr>\n",
              "    <tr>\n",
              "      <th>2015-02-17</th>\n",
              "      <td>20</td>\n",
              "    </tr>\n",
              "    <tr>\n",
              "      <th>2015-02-18</th>\n",
              "      <td>21</td>\n",
              "    </tr>\n",
              "    <tr>\n",
              "      <th>2015-02-19</th>\n",
              "      <td>20</td>\n",
              "    </tr>\n",
              "    <tr>\n",
              "      <th rowspan=\"12\" valign=\"top\">Quarter4</th>\n",
              "      <th>2015-01-22</th>\n",
              "      <td>22</td>\n",
              "    </tr>\n",
              "    <tr>\n",
              "      <th>2015-01-24</th>\n",
              "      <td>23</td>\n",
              "    </tr>\n",
              "    <tr>\n",
              "      <th>2015-01-25</th>\n",
              "      <td>21</td>\n",
              "    </tr>\n",
              "    <tr>\n",
              "      <th>2015-01-26</th>\n",
              "      <td>19</td>\n",
              "    </tr>\n",
              "    <tr>\n",
              "      <th>2015-01-27</th>\n",
              "      <td>21</td>\n",
              "    </tr>\n",
              "    <tr>\n",
              "      <th>2015-01-28</th>\n",
              "      <td>21</td>\n",
              "    </tr>\n",
              "    <tr>\n",
              "      <th>2015-02-22</th>\n",
              "      <td>20</td>\n",
              "    </tr>\n",
              "    <tr>\n",
              "      <th>2015-02-23</th>\n",
              "      <td>19</td>\n",
              "    </tr>\n",
              "    <tr>\n",
              "      <th>2015-02-24</th>\n",
              "      <td>19</td>\n",
              "    </tr>\n",
              "    <tr>\n",
              "      <th>2015-02-25</th>\n",
              "      <td>21</td>\n",
              "    </tr>\n",
              "    <tr>\n",
              "      <th>2015-02-26</th>\n",
              "      <td>21</td>\n",
              "    </tr>\n",
              "    <tr>\n",
              "      <th>2015-02-28</th>\n",
              "      <td>21</td>\n",
              "    </tr>\n",
              "    <tr>\n",
              "      <th rowspan=\"2\" valign=\"top\">Quarter5</th>\n",
              "      <th>2015-01-29</th>\n",
              "      <td>20</td>\n",
              "    </tr>\n",
              "    <tr>\n",
              "      <th>2015-01-31</th>\n",
              "      <td>24</td>\n",
              "    </tr>\n",
              "  </tbody>\n",
              "</table>\n",
              "</div>\n",
              "      <button class=\"colab-df-convert\" onclick=\"convertToInteractive('df-2b25c2ab-fb72-4520-a089-79e470343d3a')\"\n",
              "              title=\"Convert this dataframe to an interactive table.\"\n",
              "              style=\"display:none;\">\n",
              "        \n",
              "  <svg xmlns=\"http://www.w3.org/2000/svg\" height=\"24px\"viewBox=\"0 0 24 24\"\n",
              "       width=\"24px\">\n",
              "    <path d=\"M0 0h24v24H0V0z\" fill=\"none\"/>\n",
              "    <path d=\"M18.56 5.44l.94 2.06.94-2.06 2.06-.94-2.06-.94-.94-2.06-.94 2.06-2.06.94zm-11 1L8.5 8.5l.94-2.06 2.06-.94-2.06-.94L8.5 2.5l-.94 2.06-2.06.94zm10 10l.94 2.06.94-2.06 2.06-.94-2.06-.94-.94-2.06-.94 2.06-2.06.94z\"/><path d=\"M17.41 7.96l-1.37-1.37c-.4-.4-.92-.59-1.43-.59-.52 0-1.04.2-1.43.59L10.3 9.45l-7.72 7.72c-.78.78-.78 2.05 0 2.83L4 21.41c.39.39.9.59 1.41.59.51 0 1.02-.2 1.41-.59l7.78-7.78 2.81-2.81c.8-.78.8-2.07 0-2.86zM5.41 20L4 18.59l7.72-7.72 1.47 1.35L5.41 20z\"/>\n",
              "  </svg>\n",
              "      </button>\n",
              "      \n",
              "  <style>\n",
              "    .colab-df-container {\n",
              "      display:flex;\n",
              "      flex-wrap:wrap;\n",
              "      gap: 12px;\n",
              "    }\n",
              "\n",
              "    .colab-df-convert {\n",
              "      background-color: #E8F0FE;\n",
              "      border: none;\n",
              "      border-radius: 50%;\n",
              "      cursor: pointer;\n",
              "      display: none;\n",
              "      fill: #1967D2;\n",
              "      height: 32px;\n",
              "      padding: 0 0 0 0;\n",
              "      width: 32px;\n",
              "    }\n",
              "\n",
              "    .colab-df-convert:hover {\n",
              "      background-color: #E2EBFA;\n",
              "      box-shadow: 0px 1px 2px rgba(60, 64, 67, 0.3), 0px 1px 3px 1px rgba(60, 64, 67, 0.15);\n",
              "      fill: #174EA6;\n",
              "    }\n",
              "\n",
              "    [theme=dark] .colab-df-convert {\n",
              "      background-color: #3B4455;\n",
              "      fill: #D2E3FC;\n",
              "    }\n",
              "\n",
              "    [theme=dark] .colab-df-convert:hover {\n",
              "      background-color: #434B5C;\n",
              "      box-shadow: 0px 1px 3px 1px rgba(0, 0, 0, 0.15);\n",
              "      filter: drop-shadow(0px 1px 2px rgba(0, 0, 0, 0.3));\n",
              "      fill: #FFFFFF;\n",
              "    }\n",
              "  </style>\n",
              "\n",
              "      <script>\n",
              "        const buttonEl =\n",
              "          document.querySelector('#df-2b25c2ab-fb72-4520-a089-79e470343d3a button.colab-df-convert');\n",
              "        buttonEl.style.display =\n",
              "          google.colab.kernel.accessAllowed ? 'block' : 'none';\n",
              "\n",
              "        async function convertToInteractive(key) {\n",
              "          const element = document.querySelector('#df-2b25c2ab-fb72-4520-a089-79e470343d3a');\n",
              "          const dataTable =\n",
              "            await google.colab.kernel.invokeFunction('convertToInteractive',\n",
              "                                                     [key], {});\n",
              "          if (!dataTable) return;\n",
              "\n",
              "          const docLinkHtml = 'Like what you see? Visit the ' +\n",
              "            '<a target=\"_blank\" href=https://colab.research.google.com/notebooks/data_table.ipynb>data table notebook</a>'\n",
              "            + ' to learn more about interactive tables.';\n",
              "          element.innerHTML = '';\n",
              "          dataTable['output_type'] = 'display_data';\n",
              "          await google.colab.output.renderOutput(dataTable, element);\n",
              "          const docLink = document.createElement('div');\n",
              "          docLink.innerHTML = docLinkHtml;\n",
              "          element.appendChild(docLink);\n",
              "        }\n",
              "      </script>\n",
              "    </div>\n",
              "  </div>\n",
              "  "
            ]
          },
          "metadata": {},
          "execution_count": 9
        }
      ]
    },
    {
      "cell_type": "markdown",
      "source": [
        "Based on data informations, `quarter` is day of week in the month, divided into each 7 days starting from **day 1 to day 7** as **Quarter1**, **day 8 to day 14** as **Quarter2**, **day 15 to day 21** as **Quarter3**, **day 22 to day 28** as **Quarter4** and **day 29 to day 30 or 31** as **Quarter5**. \n",
        "\n",
        "Next, let's check what departments we have in this data."
      ],
      "metadata": {
        "id": "Elzswrb_bO2s"
      }
    },
    {
      "cell_type": "code",
      "source": [
        "garments['department'].unique()"
      ],
      "metadata": {
        "colab": {
          "base_uri": "https://localhost:8080/"
        },
        "id": "7intNaLIuvL-",
        "outputId": "14f0ebc6-44e7-4d4a-f60c-8b4da5e5e5fa"
      },
      "execution_count": 10,
      "outputs": [
        {
          "output_type": "execute_result",
          "data": {
            "text/plain": [
              "array(['sweing', 'finishing ', 'finishing'], dtype=object)"
            ]
          },
          "metadata": {},
          "execution_count": 10
        }
      ]
    },
    {
      "cell_type": "code",
      "source": [
        "garments['department'].value_counts().reset_index()"
      ],
      "metadata": {
        "colab": {
          "base_uri": "https://localhost:8080/",
          "height": 143
        },
        "id": "vp0d_mpRbg6n",
        "outputId": "9ec58f6b-e257-4bc3-ae9c-71c3e22aff4f"
      },
      "execution_count": 11,
      "outputs": [
        {
          "output_type": "execute_result",
          "data": {
            "text/plain": [
              "        index  department\n",
              "0      sweing         691\n",
              "1  finishing          257\n",
              "2   finishing         249"
            ],
            "text/html": [
              "\n",
              "  <div id=\"df-9f88d0fe-9f7d-4436-b207-da278256fc44\">\n",
              "    <div class=\"colab-df-container\">\n",
              "      <div>\n",
              "<style scoped>\n",
              "    .dataframe tbody tr th:only-of-type {\n",
              "        vertical-align: middle;\n",
              "    }\n",
              "\n",
              "    .dataframe tbody tr th {\n",
              "        vertical-align: top;\n",
              "    }\n",
              "\n",
              "    .dataframe thead th {\n",
              "        text-align: right;\n",
              "    }\n",
              "</style>\n",
              "<table border=\"1\" class=\"dataframe\">\n",
              "  <thead>\n",
              "    <tr style=\"text-align: right;\">\n",
              "      <th></th>\n",
              "      <th>index</th>\n",
              "      <th>department</th>\n",
              "    </tr>\n",
              "  </thead>\n",
              "  <tbody>\n",
              "    <tr>\n",
              "      <th>0</th>\n",
              "      <td>sweing</td>\n",
              "      <td>691</td>\n",
              "    </tr>\n",
              "    <tr>\n",
              "      <th>1</th>\n",
              "      <td>finishing</td>\n",
              "      <td>257</td>\n",
              "    </tr>\n",
              "    <tr>\n",
              "      <th>2</th>\n",
              "      <td>finishing</td>\n",
              "      <td>249</td>\n",
              "    </tr>\n",
              "  </tbody>\n",
              "</table>\n",
              "</div>\n",
              "      <button class=\"colab-df-convert\" onclick=\"convertToInteractive('df-9f88d0fe-9f7d-4436-b207-da278256fc44')\"\n",
              "              title=\"Convert this dataframe to an interactive table.\"\n",
              "              style=\"display:none;\">\n",
              "        \n",
              "  <svg xmlns=\"http://www.w3.org/2000/svg\" height=\"24px\"viewBox=\"0 0 24 24\"\n",
              "       width=\"24px\">\n",
              "    <path d=\"M0 0h24v24H0V0z\" fill=\"none\"/>\n",
              "    <path d=\"M18.56 5.44l.94 2.06.94-2.06 2.06-.94-2.06-.94-.94-2.06-.94 2.06-2.06.94zm-11 1L8.5 8.5l.94-2.06 2.06-.94-2.06-.94L8.5 2.5l-.94 2.06-2.06.94zm10 10l.94 2.06.94-2.06 2.06-.94-2.06-.94-.94-2.06-.94 2.06-2.06.94z\"/><path d=\"M17.41 7.96l-1.37-1.37c-.4-.4-.92-.59-1.43-.59-.52 0-1.04.2-1.43.59L10.3 9.45l-7.72 7.72c-.78.78-.78 2.05 0 2.83L4 21.41c.39.39.9.59 1.41.59.51 0 1.02-.2 1.41-.59l7.78-7.78 2.81-2.81c.8-.78.8-2.07 0-2.86zM5.41 20L4 18.59l7.72-7.72 1.47 1.35L5.41 20z\"/>\n",
              "  </svg>\n",
              "      </button>\n",
              "      \n",
              "  <style>\n",
              "    .colab-df-container {\n",
              "      display:flex;\n",
              "      flex-wrap:wrap;\n",
              "      gap: 12px;\n",
              "    }\n",
              "\n",
              "    .colab-df-convert {\n",
              "      background-color: #E8F0FE;\n",
              "      border: none;\n",
              "      border-radius: 50%;\n",
              "      cursor: pointer;\n",
              "      display: none;\n",
              "      fill: #1967D2;\n",
              "      height: 32px;\n",
              "      padding: 0 0 0 0;\n",
              "      width: 32px;\n",
              "    }\n",
              "\n",
              "    .colab-df-convert:hover {\n",
              "      background-color: #E2EBFA;\n",
              "      box-shadow: 0px 1px 2px rgba(60, 64, 67, 0.3), 0px 1px 3px 1px rgba(60, 64, 67, 0.15);\n",
              "      fill: #174EA6;\n",
              "    }\n",
              "\n",
              "    [theme=dark] .colab-df-convert {\n",
              "      background-color: #3B4455;\n",
              "      fill: #D2E3FC;\n",
              "    }\n",
              "\n",
              "    [theme=dark] .colab-df-convert:hover {\n",
              "      background-color: #434B5C;\n",
              "      box-shadow: 0px 1px 3px 1px rgba(0, 0, 0, 0.15);\n",
              "      filter: drop-shadow(0px 1px 2px rgba(0, 0, 0, 0.3));\n",
              "      fill: #FFFFFF;\n",
              "    }\n",
              "  </style>\n",
              "\n",
              "      <script>\n",
              "        const buttonEl =\n",
              "          document.querySelector('#df-9f88d0fe-9f7d-4436-b207-da278256fc44 button.colab-df-convert');\n",
              "        buttonEl.style.display =\n",
              "          google.colab.kernel.accessAllowed ? 'block' : 'none';\n",
              "\n",
              "        async function convertToInteractive(key) {\n",
              "          const element = document.querySelector('#df-9f88d0fe-9f7d-4436-b207-da278256fc44');\n",
              "          const dataTable =\n",
              "            await google.colab.kernel.invokeFunction('convertToInteractive',\n",
              "                                                     [key], {});\n",
              "          if (!dataTable) return;\n",
              "\n",
              "          const docLinkHtml = 'Like what you see? Visit the ' +\n",
              "            '<a target=\"_blank\" href=https://colab.research.google.com/notebooks/data_table.ipynb>data table notebook</a>'\n",
              "            + ' to learn more about interactive tables.';\n",
              "          element.innerHTML = '';\n",
              "          dataTable['output_type'] = 'display_data';\n",
              "          await google.colab.output.renderOutput(dataTable, element);\n",
              "          const docLink = document.createElement('div');\n",
              "          docLink.innerHTML = docLinkHtml;\n",
              "          element.appendChild(docLink);\n",
              "        }\n",
              "      </script>\n",
              "    </div>\n",
              "  </div>\n",
              "  "
            ]
          },
          "metadata": {},
          "execution_count": 11
        }
      ]
    },
    {
      "cell_type": "markdown",
      "source": [
        "Departments in this dataset should be **sewing** and **finishing**. Since there are wrong type, let's change the typo to the correct one."
      ],
      "metadata": {
        "id": "x4DzqyDcqiCi"
      }
    },
    {
      "cell_type": "code",
      "source": [
        "garments['department'] = garments['department'].replace(['sweing'],['sewing'])\n",
        "garments['department'] = garments['department'].replace(['finishing '],['finishing'])"
      ],
      "metadata": {
        "id": "xtl2FtWfU0XZ"
      },
      "execution_count": 12,
      "outputs": []
    },
    {
      "cell_type": "code",
      "source": [
        "garments['department'].value_counts().reset_index()"
      ],
      "metadata": {
        "colab": {
          "base_uri": "https://localhost:8080/",
          "height": 112
        },
        "id": "flDRUCZ0U4NE",
        "outputId": "f5aa2fcd-28e9-4b65-e78b-ed424e67d057"
      },
      "execution_count": 13,
      "outputs": [
        {
          "output_type": "execute_result",
          "data": {
            "text/plain": [
              "       index  department\n",
              "0     sewing         691\n",
              "1  finishing         506"
            ],
            "text/html": [
              "\n",
              "  <div id=\"df-92ab5f50-5993-49b2-bb97-1838c1d1f858\">\n",
              "    <div class=\"colab-df-container\">\n",
              "      <div>\n",
              "<style scoped>\n",
              "    .dataframe tbody tr th:only-of-type {\n",
              "        vertical-align: middle;\n",
              "    }\n",
              "\n",
              "    .dataframe tbody tr th {\n",
              "        vertical-align: top;\n",
              "    }\n",
              "\n",
              "    .dataframe thead th {\n",
              "        text-align: right;\n",
              "    }\n",
              "</style>\n",
              "<table border=\"1\" class=\"dataframe\">\n",
              "  <thead>\n",
              "    <tr style=\"text-align: right;\">\n",
              "      <th></th>\n",
              "      <th>index</th>\n",
              "      <th>department</th>\n",
              "    </tr>\n",
              "  </thead>\n",
              "  <tbody>\n",
              "    <tr>\n",
              "      <th>0</th>\n",
              "      <td>sewing</td>\n",
              "      <td>691</td>\n",
              "    </tr>\n",
              "    <tr>\n",
              "      <th>1</th>\n",
              "      <td>finishing</td>\n",
              "      <td>506</td>\n",
              "    </tr>\n",
              "  </tbody>\n",
              "</table>\n",
              "</div>\n",
              "      <button class=\"colab-df-convert\" onclick=\"convertToInteractive('df-92ab5f50-5993-49b2-bb97-1838c1d1f858')\"\n",
              "              title=\"Convert this dataframe to an interactive table.\"\n",
              "              style=\"display:none;\">\n",
              "        \n",
              "  <svg xmlns=\"http://www.w3.org/2000/svg\" height=\"24px\"viewBox=\"0 0 24 24\"\n",
              "       width=\"24px\">\n",
              "    <path d=\"M0 0h24v24H0V0z\" fill=\"none\"/>\n",
              "    <path d=\"M18.56 5.44l.94 2.06.94-2.06 2.06-.94-2.06-.94-.94-2.06-.94 2.06-2.06.94zm-11 1L8.5 8.5l.94-2.06 2.06-.94-2.06-.94L8.5 2.5l-.94 2.06-2.06.94zm10 10l.94 2.06.94-2.06 2.06-.94-2.06-.94-.94-2.06-.94 2.06-2.06.94z\"/><path d=\"M17.41 7.96l-1.37-1.37c-.4-.4-.92-.59-1.43-.59-.52 0-1.04.2-1.43.59L10.3 9.45l-7.72 7.72c-.78.78-.78 2.05 0 2.83L4 21.41c.39.39.9.59 1.41.59.51 0 1.02-.2 1.41-.59l7.78-7.78 2.81-2.81c.8-.78.8-2.07 0-2.86zM5.41 20L4 18.59l7.72-7.72 1.47 1.35L5.41 20z\"/>\n",
              "  </svg>\n",
              "      </button>\n",
              "      \n",
              "  <style>\n",
              "    .colab-df-container {\n",
              "      display:flex;\n",
              "      flex-wrap:wrap;\n",
              "      gap: 12px;\n",
              "    }\n",
              "\n",
              "    .colab-df-convert {\n",
              "      background-color: #E8F0FE;\n",
              "      border: none;\n",
              "      border-radius: 50%;\n",
              "      cursor: pointer;\n",
              "      display: none;\n",
              "      fill: #1967D2;\n",
              "      height: 32px;\n",
              "      padding: 0 0 0 0;\n",
              "      width: 32px;\n",
              "    }\n",
              "\n",
              "    .colab-df-convert:hover {\n",
              "      background-color: #E2EBFA;\n",
              "      box-shadow: 0px 1px 2px rgba(60, 64, 67, 0.3), 0px 1px 3px 1px rgba(60, 64, 67, 0.15);\n",
              "      fill: #174EA6;\n",
              "    }\n",
              "\n",
              "    [theme=dark] .colab-df-convert {\n",
              "      background-color: #3B4455;\n",
              "      fill: #D2E3FC;\n",
              "    }\n",
              "\n",
              "    [theme=dark] .colab-df-convert:hover {\n",
              "      background-color: #434B5C;\n",
              "      box-shadow: 0px 1px 3px 1px rgba(0, 0, 0, 0.15);\n",
              "      filter: drop-shadow(0px 1px 2px rgba(0, 0, 0, 0.3));\n",
              "      fill: #FFFFFF;\n",
              "    }\n",
              "  </style>\n",
              "\n",
              "      <script>\n",
              "        const buttonEl =\n",
              "          document.querySelector('#df-92ab5f50-5993-49b2-bb97-1838c1d1f858 button.colab-df-convert');\n",
              "        buttonEl.style.display =\n",
              "          google.colab.kernel.accessAllowed ? 'block' : 'none';\n",
              "\n",
              "        async function convertToInteractive(key) {\n",
              "          const element = document.querySelector('#df-92ab5f50-5993-49b2-bb97-1838c1d1f858');\n",
              "          const dataTable =\n",
              "            await google.colab.kernel.invokeFunction('convertToInteractive',\n",
              "                                                     [key], {});\n",
              "          if (!dataTable) return;\n",
              "\n",
              "          const docLinkHtml = 'Like what you see? Visit the ' +\n",
              "            '<a target=\"_blank\" href=https://colab.research.google.com/notebooks/data_table.ipynb>data table notebook</a>'\n",
              "            + ' to learn more about interactive tables.';\n",
              "          element.innerHTML = '';\n",
              "          dataTable['output_type'] = 'display_data';\n",
              "          await google.colab.output.renderOutput(dataTable, element);\n",
              "          const docLink = document.createElement('div');\n",
              "          docLink.innerHTML = docLinkHtml;\n",
              "          element.appendChild(docLink);\n",
              "        }\n",
              "      </script>\n",
              "    </div>\n",
              "  </div>\n",
              "  "
            ]
          },
          "metadata": {},
          "execution_count": 13
        }
      ]
    },
    {
      "cell_type": "markdown",
      "source": [
        "Now we have the correct `department` name with 691 rows of **sewing** and 506 rows of **finishing**.\n",
        "\n",
        "Now, let's check the `days` in this dataset.\n",
        "We can just sort the days from Sunday to Saturday."
      ],
      "metadata": {
        "id": "dRC4wQ86rXSh"
      }
    },
    {
      "cell_type": "code",
      "source": [
        "garments['day'] = pd.Categorical(garments['day'], categories=\n",
        "    ['Sunday','Monday','Tuesday','Wednesday','Thursday','Friday','Saturday'],\n",
        "    ordered=True)\n",
        "garments['day'].value_counts().sort_index()"
      ],
      "metadata": {
        "colab": {
          "base_uri": "https://localhost:8080/"
        },
        "id": "esz8g4zwyAKw",
        "outputId": "075b55a2-5e4e-4f9c-e7b4-db1994a1d685"
      },
      "execution_count": 14,
      "outputs": [
        {
          "output_type": "execute_result",
          "data": {
            "text/plain": [
              "Sunday       203\n",
              "Monday       199\n",
              "Tuesday      201\n",
              "Wednesday    208\n",
              "Thursday     199\n",
              "Friday         0\n",
              "Saturday     187\n",
              "Name: day, dtype: int64"
            ]
          },
          "metadata": {},
          "execution_count": 14
        }
      ]
    },
    {
      "cell_type": "markdown",
      "source": [
        "From this data, we can infer that **Friday** is an off day since there is no activity on that day.\n",
        "\n",
        "From the information we have, there are missing values in `wip`. Let's check."
      ],
      "metadata": {
        "id": "G7T_CkVqyUBg"
      }
    },
    {
      "cell_type": "code",
      "source": [
        "garments.wip.isnull().sum()"
      ],
      "metadata": {
        "colab": {
          "base_uri": "https://localhost:8080/"
        },
        "id": "sHRnb2Oa1Y2l",
        "outputId": "b56b183e-375b-4773-d50c-40f8a9182b20"
      },
      "execution_count": 15,
      "outputs": [
        {
          "output_type": "execute_result",
          "data": {
            "text/plain": [
              "506"
            ]
          },
          "metadata": {},
          "execution_count": 15
        }
      ]
    },
    {
      "cell_type": "markdown",
      "source": [
        "There are **506** missing values. We can do the checking where department does this missing values come from."
      ],
      "metadata": {
        "id": "oKvTtd3m1iMa"
      }
    },
    {
      "cell_type": "code",
      "source": [
        "sns.barplot(x = 'department', y='wip', data = garments)"
      ],
      "metadata": {
        "colab": {
          "base_uri": "https://localhost:8080/",
          "height": 303
        },
        "id": "AHgUvQZZ18SU",
        "outputId": "c0a8d568-34d7-4d8c-c727-5315329b2a24"
      },
      "execution_count": 16,
      "outputs": [
        {
          "output_type": "execute_result",
          "data": {
            "text/plain": [
              "<matplotlib.axes._subplots.AxesSubplot at 0x7fd939707c50>"
            ]
          },
          "metadata": {},
          "execution_count": 16
        },
        {
          "output_type": "display_data",
          "data": {
            "text/plain": [
              "<Figure size 432x288 with 1 Axes>"
            ],
            "image/png": "[encoded data removed]"
          },
          "metadata": {
            "needs_background": "light"
          }
        }
      ]
    },
    {
      "cell_type": "markdown",
      "source": [
        "These missing values belongs to **finishing** department. The **finishing** department get a work from the **sewing** department. From this result we can assumed that the finishing department has no work in progress while waiting for work from the sewing department on that day. So we can replace the **Nan** with **0** using `fillna()`"
      ],
      "metadata": {
        "id": "PMwqwHC12Giw"
      }
    },
    {
      "cell_type": "code",
      "source": [
        "garments['wip'] = garments['wip'].fillna(0)\n",
        "garments.wip.isnull().sum()"
      ],
      "metadata": {
        "colab": {
          "base_uri": "https://localhost:8080/"
        },
        "id": "RHCA85uMzumq",
        "outputId": "16c4e231-e7d3-4af7-da18-e9f4a3b7888a"
      },
      "execution_count": 17,
      "outputs": [
        {
          "output_type": "execute_result",
          "data": {
            "text/plain": [
              "0"
            ]
          },
          "metadata": {},
          "execution_count": 17
        }
      ]
    },
    {
      "cell_type": "markdown",
      "source": [
        "Now, there is no NA in `wip` column. Let's just check the data again."
      ],
      "metadata": {
        "id": "7e4c-uWw2vgg"
      }
    },
    {
      "cell_type": "code",
      "source": [
        "garments.describe()"
      ],
      "metadata": {
        "colab": {
          "base_uri": "https://localhost:8080/",
          "height": 364
        },
        "id": "jNlsuIiVyKY3",
        "outputId": "44c8f152-0b70-44db-fe86-45dea88ce645"
      },
      "execution_count": 18,
      "outputs": [
        {
          "output_type": "execute_result",
          "data": {
            "text/plain": [
              "              team  targeted_productivity          smv           wip  \\\n",
              "count  1197.000000            1197.000000  1197.000000   1197.000000   \n",
              "mean      6.426901               0.729632    15.062172    687.228070   \n",
              "std       3.463963               0.097891    10.943219   1514.582341   \n",
              "min       1.000000               0.070000     2.900000      0.000000   \n",
              "25%       3.000000               0.700000     3.940000      0.000000   \n",
              "50%       6.000000               0.750000    15.260000    586.000000   \n",
              "75%       9.000000               0.800000    24.260000   1083.000000   \n",
              "max      12.000000               0.800000    54.560000  23122.000000   \n",
              "\n",
              "          over_time    incentive    idle_time     idle_men  \\\n",
              "count   1197.000000  1197.000000  1197.000000  1197.000000   \n",
              "mean    4567.460317    38.210526     0.730159     0.369256   \n",
              "std     3348.823563   160.182643    12.709757     3.268987   \n",
              "min        0.000000     0.000000     0.000000     0.000000   \n",
              "25%     1440.000000     0.000000     0.000000     0.000000   \n",
              "50%     3960.000000     0.000000     0.000000     0.000000   \n",
              "75%     6960.000000    50.000000     0.000000     0.000000   \n",
              "max    25920.000000  3600.000000   300.000000    45.000000   \n",
              "\n",
              "       no_of_style_change  no_of_workers  actual_productivity  \n",
              "count         1197.000000    1197.000000          1197.000000  \n",
              "mean             0.150376      34.609858             0.735091  \n",
              "std              0.427848      22.197687             0.174488  \n",
              "min              0.000000       2.000000             0.233705  \n",
              "25%              0.000000       9.000000             0.650307  \n",
              "50%              0.000000      34.000000             0.773333  \n",
              "75%              0.000000      57.000000             0.850253  \n",
              "max              2.000000      89.000000             1.120437  "
            ],
            "text/html": [
              "\n",
              "  <div id=\"df-47027445-977c-4d45-980b-e42b0ae32817\">\n",
              "    <div class=\"colab-df-container\">\n",
              "      <div>\n",
              "<style scoped>\n",
              "    .dataframe tbody tr th:only-of-type {\n",
              "        vertical-align: middle;\n",
              "    }\n",
              "\n",
              "    .dataframe tbody tr th {\n",
              "        vertical-align: top;\n",
              "    }\n",
              "\n",
              "    .dataframe thead th {\n",
              "        text-align: right;\n",
              "    }\n",
              "</style>\n",
              "<table border=\"1\" class=\"dataframe\">\n",
              "  <thead>\n",
              "    <tr style=\"text-align: right;\">\n",
              "      <th></th>\n",
              "      <th>team</th>\n",
              "      <th>targeted_productivity</th>\n",
              "      <th>smv</th>\n",
              "      <th>wip</th>\n",
              "      <th>over_time</th>\n",
              "      <th>incentive</th>\n",
              "      <th>idle_time</th>\n",
              "      <th>idle_men</th>\n",
              "      <th>no_of_style_change</th>\n",
              "      <th>no_of_workers</th>\n",
              "      <th>actual_productivity</th>\n",
              "    </tr>\n",
              "  </thead>\n",
              "  <tbody>\n",
              "    <tr>\n",
              "      <th>count</th>\n",
              "      <td>1197.000000</td>\n",
              "      <td>1197.000000</td>\n",
              "      <td>1197.000000</td>\n",
              "      <td>1197.000000</td>\n",
              "      <td>1197.000000</td>\n",
              "      <td>1197.000000</td>\n",
              "      <td>1197.000000</td>\n",
              "      <td>1197.000000</td>\n",
              "      <td>1197.000000</td>\n",
              "      <td>1197.000000</td>\n",
              "      <td>1197.000000</td>\n",
              "    </tr>\n",
              "    <tr>\n",
              "      <th>mean</th>\n",
              "      <td>6.426901</td>\n",
              "      <td>0.729632</td>\n",
              "      <td>15.062172</td>\n",
              "      <td>687.228070</td>\n",
              "      <td>4567.460317</td>\n",
              "      <td>38.210526</td>\n",
              "      <td>0.730159</td>\n",
              "      <td>0.369256</td>\n",
              "      <td>0.150376</td>\n",
              "      <td>34.609858</td>\n",
              "      <td>0.735091</td>\n",
              "    </tr>\n",
              "    <tr>\n",
              "      <th>std</th>\n",
              "      <td>3.463963</td>\n",
              "      <td>0.097891</td>\n",
              "      <td>10.943219</td>\n",
              "      <td>1514.582341</td>\n",
              "      <td>3348.823563</td>\n",
              "      <td>160.182643</td>\n",
              "      <td>12.709757</td>\n",
              "      <td>3.268987</td>\n",
              "      <td>0.427848</td>\n",
              "      <td>22.197687</td>\n",
              "      <td>0.174488</td>\n",
              "    </tr>\n",
              "    <tr>\n",
              "      <th>min</th>\n",
              "      <td>1.000000</td>\n",
              "      <td>0.070000</td>\n",
              "      <td>2.900000</td>\n",
              "      <td>0.000000</td>\n",
              "      <td>0.000000</td>\n",
              "      <td>0.000000</td>\n",
              "      <td>0.000000</td>\n",
              "      <td>0.000000</td>\n",
              "      <td>0.000000</td>\n",
              "      <td>2.000000</td>\n",
              "      <td>0.233705</td>\n",
              "    </tr>\n",
              "    <tr>\n",
              "      <th>25%</th>\n",
              "      <td>3.000000</td>\n",
              "      <td>0.700000</td>\n",
              "      <td>3.940000</td>\n",
              "      <td>0.000000</td>\n",
              "      <td>1440.000000</td>\n",
              "      <td>0.000000</td>\n",
              "      <td>0.000000</td>\n",
              "      <td>0.000000</td>\n",
              "      <td>0.000000</td>\n",
              "      <td>9.000000</td>\n",
              "      <td>0.650307</td>\n",
              "    </tr>\n",
              "    <tr>\n",
              "      <th>50%</th>\n",
              "      <td>6.000000</td>\n",
              "      <td>0.750000</td>\n",
              "      <td>15.260000</td>\n",
              "      <td>586.000000</td>\n",
              "      <td>3960.000000</td>\n",
              "      <td>0.000000</td>\n",
              "      <td>0.000000</td>\n",
              "      <td>0.000000</td>\n",
              "      <td>0.000000</td>\n",
              "      <td>34.000000</td>\n",
              "      <td>0.773333</td>\n",
              "    </tr>\n",
              "    <tr>\n",
              "      <th>75%</th>\n",
              "      <td>9.000000</td>\n",
              "      <td>0.800000</td>\n",
              "      <td>24.260000</td>\n",
              "      <td>1083.000000</td>\n",
              "      <td>6960.000000</td>\n",
              "      <td>50.000000</td>\n",
              "      <td>0.000000</td>\n",
              "      <td>0.000000</td>\n",
              "      <td>0.000000</td>\n",
              "      <td>57.000000</td>\n",
              "      <td>0.850253</td>\n",
              "    </tr>\n",
              "    <tr>\n",
              "      <th>max</th>\n",
              "      <td>12.000000</td>\n",
              "      <td>0.800000</td>\n",
              "      <td>54.560000</td>\n",
              "      <td>23122.000000</td>\n",
              "      <td>25920.000000</td>\n",
              "      <td>3600.000000</td>\n",
              "      <td>300.000000</td>\n",
              "      <td>45.000000</td>\n",
              "      <td>2.000000</td>\n",
              "      <td>89.000000</td>\n",
              "      <td>1.120437</td>\n",
              "    </tr>\n",
              "  </tbody>\n",
              "</table>\n",
              "</div>\n",
              "      <button class=\"colab-df-convert\" onclick=\"convertToInteractive('df-47027445-977c-4d45-980b-e42b0ae32817')\"\n",
              "              title=\"Convert this dataframe to an interactive table.\"\n",
              "              style=\"display:none;\">\n",
              "        \n",
              "  <svg xmlns=\"http://www.w3.org/2000/svg\" height=\"24px\"viewBox=\"0 0 24 24\"\n",
              "       width=\"24px\">\n",
              "    <path d=\"M0 0h24v24H0V0z\" fill=\"none\"/>\n",
              "    <path d=\"M18.56 5.44l.94 2.06.94-2.06 2.06-.94-2.06-.94-.94-2.06-.94 2.06-2.06.94zm-11 1L8.5 8.5l.94-2.06 2.06-.94-2.06-.94L8.5 2.5l-.94 2.06-2.06.94zm10 10l.94 2.06.94-2.06 2.06-.94-2.06-.94-.94-2.06-.94 2.06-2.06.94z\"/><path d=\"M17.41 7.96l-1.37-1.37c-.4-.4-.92-.59-1.43-.59-.52 0-1.04.2-1.43.59L10.3 9.45l-7.72 7.72c-.78.78-.78 2.05 0 2.83L4 21.41c.39.39.9.59 1.41.59.51 0 1.02-.2 1.41-.59l7.78-7.78 2.81-2.81c.8-.78.8-2.07 0-2.86zM5.41 20L4 18.59l7.72-7.72 1.47 1.35L5.41 20z\"/>\n",
              "  </svg>\n",
              "      </button>\n",
              "      \n",
              "  <style>\n",
              "    .colab-df-container {\n",
              "      display:flex;\n",
              "      flex-wrap:wrap;\n",
              "      gap: 12px;\n",
              "    }\n",
              "\n",
              "    .colab-df-convert {\n",
              "      background-color: #E8F0FE;\n",
              "      border: none;\n",
              "      border-radius: 50%;\n",
              "      cursor: pointer;\n",
              "      display: none;\n",
              "      fill: #1967D2;\n",
              "      height: 32px;\n",
              "      padding: 0 0 0 0;\n",
              "      width: 32px;\n",
              "    }\n",
              "\n",
              "    .colab-df-convert:hover {\n",
              "      background-color: #E2EBFA;\n",
              "      box-shadow: 0px 1px 2px rgba(60, 64, 67, 0.3), 0px 1px 3px 1px rgba(60, 64, 67, 0.15);\n",
              "      fill: #174EA6;\n",
              "    }\n",
              "\n",
              "    [theme=dark] .colab-df-convert {\n",
              "      background-color: #3B4455;\n",
              "      fill: #D2E3FC;\n",
              "    }\n",
              "\n",
              "    [theme=dark] .colab-df-convert:hover {\n",
              "      background-color: #434B5C;\n",
              "      box-shadow: 0px 1px 3px 1px rgba(0, 0, 0, 0.15);\n",
              "      filter: drop-shadow(0px 1px 2px rgba(0, 0, 0, 0.3));\n",
              "      fill: #FFFFFF;\n",
              "    }\n",
              "  </style>\n",
              "\n",
              "      <script>\n",
              "        const buttonEl =\n",
              "          document.querySelector('#df-47027445-977c-4d45-980b-e42b0ae32817 button.colab-df-convert');\n",
              "        buttonEl.style.display =\n",
              "          google.colab.kernel.accessAllowed ? 'block' : 'none';\n",
              "\n",
              "        async function convertToInteractive(key) {\n",
              "          const element = document.querySelector('#df-47027445-977c-4d45-980b-e42b0ae32817');\n",
              "          const dataTable =\n",
              "            await google.colab.kernel.invokeFunction('convertToInteractive',\n",
              "                                                     [key], {});\n",
              "          if (!dataTable) return;\n",
              "\n",
              "          const docLinkHtml = 'Like what you see? Visit the ' +\n",
              "            '<a target=\"_blank\" href=https://colab.research.google.com/notebooks/data_table.ipynb>data table notebook</a>'\n",
              "            + ' to learn more about interactive tables.';\n",
              "          element.innerHTML = '';\n",
              "          dataTable['output_type'] = 'display_data';\n",
              "          await google.colab.output.renderOutput(dataTable, element);\n",
              "          const docLink = document.createElement('div');\n",
              "          docLink.innerHTML = docLinkHtml;\n",
              "          element.appendChild(docLink);\n",
              "        }\n",
              "      </script>\n",
              "    </div>\n",
              "  </div>\n",
              "  "
            ]
          },
          "metadata": {},
          "execution_count": 18
        }
      ]
    },
    {
      "cell_type": "markdown",
      "source": [
        "### Explanatory Data Analysis\n",
        "\n",
        "It's time to explore the data. L\n",
        "\n",
        "Let's check the distribution of `actual_productivity`"
      ],
      "metadata": {
        "id": "4qURcX2OBtMy"
      }
    },
    {
      "cell_type": "code",
      "source": [
        "sns.distplot(garments['actual_productivity'])"
      ],
      "metadata": {
        "colab": {
          "base_uri": "https://localhost:8080/",
          "height": 303
        },
        "id": "c8aHfnZyPlGt",
        "outputId": "d227747a-a844-4912-976b-e74480dc904b"
      },
      "execution_count": 19,
      "outputs": [
        {
          "output_type": "execute_result",
          "data": {
            "text/plain": [
              "<matplotlib.axes._subplots.AxesSubplot at 0x7fd9396b68d0>"
            ]
          },
          "metadata": {},
          "execution_count": 19
        },
        {
          "output_type": "display_data",
          "data": {
            "text/plain": [
              "<Figure size 432x288 with 1 Axes>"
            ],
            "image/png": "[encoded data removed]"
          },
          "metadata": {
            "needs_background": "light"
          }
        }
      ]
    },
    {
      "cell_type": "markdown",
      "source": [
        "From the histogram, the distribution of the `actual_productivity` is not normal.\n",
        "\n",
        "#### Team's Performance\n",
        "\n",
        "Let's check the performance for each team."
      ],
      "metadata": {
        "id": "_ggjlf3ZXuhe"
      }
    },
    {
      "cell_type": "code",
      "source": [
        "c = list(np.full(12, 'grey'))\n",
        "\n",
        "f, ax = plt.subplots(2, 2, figsize=(15,10))\n",
        "\n",
        "sns.barplot(data = garments, x='team', y = 'smv' , palette=c, ax = ax[0][0], ci = None)\n",
        "ax[0][0].set_title('Standard Working Minutes', size= 15)\n",
        "sns.barplot(data = garments, x='team', y='no_of_workers', palette=c, ax=ax[0][1], ci = None)\n",
        "ax[0][1].set_title('Manpower', size = 15)\n",
        "sns.barplot(data = garments, x='team', y='over_time', palette=c, ax=ax[1][0], ci = None)\n",
        "ax[1][0].set_title('Overtime [hours]', size=15)\n",
        "sns.barplot(data = garments, x='team', y='incentive', palette=c, ax=ax[1][1], ci = None)\n",
        "ax[1][1].set_title('Incentive [BDT]', size=15)\n",
        "\n",
        "plt.tight_layout()"
      ],
      "metadata": {
        "colab": {
          "base_uri": "https://localhost:8080/",
          "height": 729
        },
        "id": "9kyNwaDwegvy",
        "outputId": "b3705a8b-825b-41a4-c49a-127ec28fdb52"
      },
      "execution_count": 20,
      "outputs": [
        {
          "output_type": "display_data",
          "data": {
            "text/plain": [
              "<Figure size 1080x720 with 4 Axes>"
            ],
            "image/png": "[encoded data removed]"
          },
          "metadata": {
            "needs_background": "light"
          }
        }
      ]
    },
    {
      "cell_type": "markdown",
      "source": [
        "#### Actual vs Targeted Productivity"
      ],
      "metadata": {
        "id": "fdrqHk1jgBN_"
      }
    },
    {
      "cell_type": "code",
      "source": [
        "f, (ax1, ax2) = plt.subplots(1, 2, figsize = (15, 5))\n",
        "\n",
        "sns.barplot(data = garments, x = 'team', y = 'targeted_productivity', ax = ax1, ci = None)\n",
        "ax1.set_title('Targeted Productivity', size = 15)\n",
        "sns.barplot(data = garments, x = 'team', y = 'actual_productivity', ax = ax2, ci = None)\n",
        "ax2.set_title('Actual Productivity', size = 15)"
      ],
      "metadata": {
        "colab": {
          "base_uri": "https://localhost:8080/",
          "height": 375
        },
        "id": "dm_QwfjBi0zs",
        "outputId": "fbe142df-3656-4f13-889f-7c52e358c80f"
      },
      "execution_count": 21,
      "outputs": [
        {
          "output_type": "execute_result",
          "data": {
            "text/plain": [
              "Text(0.5, 1.0, 'Actual Productivity')"
            ]
          },
          "metadata": {},
          "execution_count": 21
        },
        {
          "output_type": "display_data",
          "data": {
            "text/plain": [
              "<Figure size 1080x360 with 2 Axes>"
            ],
            "image/png": "[encoded data removed]"
          },
          "metadata": {
            "needs_background": "light"
          }
        }
      ]
    },
    {
      "cell_type": "code",
      "source": [
        "data = garments.copy()\n",
        "data['gap'] = data['actual_productivity'] - data['targeted_productivity']\n",
        "data_tmp = data.groupby('team').agg(gap = ('gap', 'sum'))\n",
        "data_tmp['achieve'] = data.loc[:, 'gap'].apply(lambda x: 'Yes' if x >= 0 else 'No')\n",
        "data_tmp"
      ],
      "metadata": {
        "colab": {
          "base_uri": "https://localhost:8080/",
          "height": 457
        },
        "id": "r0cpMLQZIFHQ",
        "outputId": "f8faf532-0b85-4a0d-ffa7-d5b53d5ebddc"
      },
      "execution_count": 22,
      "outputs": [
        {
          "output_type": "execute_result",
          "data": {
            "text/plain": [
              "           gap achieve\n",
              "team                  \n",
              "1     7.810710     Yes\n",
              "2     3.373209     Yes\n",
              "3     5.868583     Yes\n",
              "4     5.503657     Yes\n",
              "5     2.262214     Yes\n",
              "6    -4.323788     Yes\n",
              "7    -4.441471     Yes\n",
              "8    -3.717856     Yes\n",
              "9    -2.465961     Yes\n",
              "10   -1.876380     Yes\n",
              "11   -1.935358      No\n",
              "12    0.476485      No"
            ],
            "text/html": [
              "\n",
              "  <div id=\"df-c623b8ac-2d65-40db-8091-f9139df69ab7\">\n",
              "    <div class=\"colab-df-container\">\n",
              "      <div>\n",
              "<style scoped>\n",
              "    .dataframe tbody tr th:only-of-type {\n",
              "        vertical-align: middle;\n",
              "    }\n",
              "\n",
              "    .dataframe tbody tr th {\n",
              "        vertical-align: top;\n",
              "    }\n",
              "\n",
              "    .dataframe thead th {\n",
              "        text-align: right;\n",
              "    }\n",
              "</style>\n",
              "<table border=\"1\" class=\"dataframe\">\n",
              "  <thead>\n",
              "    <tr style=\"text-align: right;\">\n",
              "      <th></th>\n",
              "      <th>gap</th>\n",
              "      <th>achieve</th>\n",
              "    </tr>\n",
              "    <tr>\n",
              "      <th>team</th>\n",
              "      <th></th>\n",
              "      <th></th>\n",
              "    </tr>\n",
              "  </thead>\n",
              "  <tbody>\n",
              "    <tr>\n",
              "      <th>1</th>\n",
              "      <td>7.810710</td>\n",
              "      <td>Yes</td>\n",
              "    </tr>\n",
              "    <tr>\n",
              "      <th>2</th>\n",
              "      <td>3.373209</td>\n",
              "      <td>Yes</td>\n",
              "    </tr>\n",
              "    <tr>\n",
              "      <th>3</th>\n",
              "      <td>5.868583</td>\n",
              "      <td>Yes</td>\n",
              "    </tr>\n",
              "    <tr>\n",
              "      <th>4</th>\n",
              "      <td>5.503657</td>\n",
              "      <td>Yes</td>\n",
              "    </tr>\n",
              "    <tr>\n",
              "      <th>5</th>\n",
              "      <td>2.262214</td>\n",
              "      <td>Yes</td>\n",
              "    </tr>\n",
              "    <tr>\n",
              "      <th>6</th>\n",
              "      <td>-4.323788</td>\n",
              "      <td>Yes</td>\n",
              "    </tr>\n",
              "    <tr>\n",
              "      <th>7</th>\n",
              "      <td>-4.441471</td>\n",
              "      <td>Yes</td>\n",
              "    </tr>\n",
              "    <tr>\n",
              "      <th>8</th>\n",
              "      <td>-3.717856</td>\n",
              "      <td>Yes</td>\n",
              "    </tr>\n",
              "    <tr>\n",
              "      <th>9</th>\n",
              "      <td>-2.465961</td>\n",
              "      <td>Yes</td>\n",
              "    </tr>\n",
              "    <tr>\n",
              "      <th>10</th>\n",
              "      <td>-1.876380</td>\n",
              "      <td>Yes</td>\n",
              "    </tr>\n",
              "    <tr>\n",
              "      <th>11</th>\n",
              "      <td>-1.935358</td>\n",
              "      <td>No</td>\n",
              "    </tr>\n",
              "    <tr>\n",
              "      <th>12</th>\n",
              "      <td>0.476485</td>\n",
              "      <td>No</td>\n",
              "    </tr>\n",
              "  </tbody>\n",
              "</table>\n",
              "</div>\n",
              "      <button class=\"colab-df-convert\" onclick=\"convertToInteractive('df-c623b8ac-2d65-40db-8091-f9139df69ab7')\"\n",
              "              title=\"Convert this dataframe to an interactive table.\"\n",
              "              style=\"display:none;\">\n",
              "        \n",
              "  <svg xmlns=\"http://www.w3.org/2000/svg\" height=\"24px\"viewBox=\"0 0 24 24\"\n",
              "       width=\"24px\">\n",
              "    <path d=\"M0 0h24v24H0V0z\" fill=\"none\"/>\n",
              "    <path d=\"M18.56 5.44l.94 2.06.94-2.06 2.06-.94-2.06-.94-.94-2.06-.94 2.06-2.06.94zm-11 1L8.5 8.5l.94-2.06 2.06-.94-2.06-.94L8.5 2.5l-.94 2.06-2.06.94zm10 10l.94 2.06.94-2.06 2.06-.94-2.06-.94-.94-2.06-.94 2.06-2.06.94z\"/><path d=\"M17.41 7.96l-1.37-1.37c-.4-.4-.92-.59-1.43-.59-.52 0-1.04.2-1.43.59L10.3 9.45l-7.72 7.72c-.78.78-.78 2.05 0 2.83L4 21.41c.39.39.9.59 1.41.59.51 0 1.02-.2 1.41-.59l7.78-7.78 2.81-2.81c.8-.78.8-2.07 0-2.86zM5.41 20L4 18.59l7.72-7.72 1.47 1.35L5.41 20z\"/>\n",
              "  </svg>\n",
              "      </button>\n",
              "      \n",
              "  <style>\n",
              "    .colab-df-container {\n",
              "      display:flex;\n",
              "      flex-wrap:wrap;\n",
              "      gap: 12px;\n",
              "    }\n",
              "\n",
              "    .colab-df-convert {\n",
              "      background-color: #E8F0FE;\n",
              "      border: none;\n",
              "      border-radius: 50%;\n",
              "      cursor: pointer;\n",
              "      display: none;\n",
              "      fill: #1967D2;\n",
              "      height: 32px;\n",
              "      padding: 0 0 0 0;\n",
              "      width: 32px;\n",
              "    }\n",
              "\n",
              "    .colab-df-convert:hover {\n",
              "      background-color: #E2EBFA;\n",
              "      box-shadow: 0px 1px 2px rgba(60, 64, 67, 0.3), 0px 1px 3px 1px rgba(60, 64, 67, 0.15);\n",
              "      fill: #174EA6;\n",
              "    }\n",
              "\n",
              "    [theme=dark] .colab-df-convert {\n",
              "      background-color: #3B4455;\n",
              "      fill: #D2E3FC;\n",
              "    }\n",
              "\n",
              "    [theme=dark] .colab-df-convert:hover {\n",
              "      background-color: #434B5C;\n",
              "      box-shadow: 0px 1px 3px 1px rgba(0, 0, 0, 0.15);\n",
              "      filter: drop-shadow(0px 1px 2px rgba(0, 0, 0, 0.3));\n",
              "      fill: #FFFFFF;\n",
              "    }\n",
              "  </style>\n",
              "\n",
              "      <script>\n",
              "        const buttonEl =\n",
              "          document.querySelector('#df-c623b8ac-2d65-40db-8091-f9139df69ab7 button.colab-df-convert');\n",
              "        buttonEl.style.display =\n",
              "          google.colab.kernel.accessAllowed ? 'block' : 'none';\n",
              "\n",
              "        async function convertToInteractive(key) {\n",
              "          const element = document.querySelector('#df-c623b8ac-2d65-40db-8091-f9139df69ab7');\n",
              "          const dataTable =\n",
              "            await google.colab.kernel.invokeFunction('convertToInteractive',\n",
              "                                                     [key], {});\n",
              "          if (!dataTable) return;\n",
              "\n",
              "          const docLinkHtml = 'Like what you see? Visit the ' +\n",
              "            '<a target=\"_blank\" href=https://colab.research.google.com/notebooks/data_table.ipynb>data table notebook</a>'\n",
              "            + ' to learn more about interactive tables.';\n",
              "          element.innerHTML = '';\n",
              "          dataTable['output_type'] = 'display_data';\n",
              "          await google.colab.output.renderOutput(dataTable, element);\n",
              "          const docLink = document.createElement('div');\n",
              "          docLink.innerHTML = docLinkHtml;\n",
              "          element.appendChild(docLink);\n",
              "        }\n",
              "      </script>\n",
              "    </div>\n",
              "  </div>\n",
              "  "
            ]
          },
          "metadata": {},
          "execution_count": 22
        }
      ]
    },
    {
      "cell_type": "markdown",
      "source": [
        "From the table, we can see that the `actual_productivity` for team **1**, **2**, **3**, **4**, **5** and **12** fulfilled the `targeted_productivity`, while for team **6**, **7**, **8**, **9**, **10** and **11** didn't achive the `targeted_productivity`."
      ],
      "metadata": {
        "id": "4nYfj3FEUwif"
      }
    },
    {
      "cell_type": "code",
      "source": [
        "data = pd.pivot_table(data, index = ['team','department'], aggfunc = np.sum)\n",
        "data['achieve'] = data.loc[:, 'gap'].apply(lambda x: 'Yes' if x >= 0 else 'No')\n",
        "data = data.reset_index()\n",
        "data[['team', 'department', 'achieve']]"
      ],
      "metadata": {
        "colab": {
          "base_uri": "https://localhost:8080/",
          "height": 802
        },
        "id": "E6NytFj5RWfN",
        "outputId": "45a9988b-8695-478c-8ca5-010dcbcd35e5"
      },
      "execution_count": 23,
      "outputs": [
        {
          "output_type": "execute_result",
          "data": {
            "text/plain": [
              "    team department achieve\n",
              "0      1  finishing     Yes\n",
              "1      1     sewing     Yes\n",
              "2      2  finishing     Yes\n",
              "3      2     sewing     Yes\n",
              "4      3  finishing     Yes\n",
              "5      3     sewing     Yes\n",
              "6      4  finishing     Yes\n",
              "7      4     sewing     Yes\n",
              "8      5  finishing     Yes\n",
              "9      5     sewing      No\n",
              "10     6  finishing      No\n",
              "11     6     sewing      No\n",
              "12     7  finishing      No\n",
              "13     7     sewing      No\n",
              "14     8  finishing      No\n",
              "15     8     sewing      No\n",
              "16     9  finishing      No\n",
              "17     9     sewing      No\n",
              "18    10  finishing      No\n",
              "19    10     sewing      No\n",
              "20    11  finishing      No\n",
              "21    11     sewing      No\n",
              "22    12  finishing     Yes\n",
              "23    12     sewing      No"
            ],
            "text/html": [
              "\n",
              "  <div id=\"df-3b5b8fe9-f748-4e47-a41d-8e05f76478a7\">\n",
              "    <div class=\"colab-df-container\">\n",
              "      <div>\n",
              "<style scoped>\n",
              "    .dataframe tbody tr th:only-of-type {\n",
              "        vertical-align: middle;\n",
              "    }\n",
              "\n",
              "    .dataframe tbody tr th {\n",
              "        vertical-align: top;\n",
              "    }\n",
              "\n",
              "    .dataframe thead th {\n",
              "        text-align: right;\n",
              "    }\n",
              "</style>\n",
              "<table border=\"1\" class=\"dataframe\">\n",
              "  <thead>\n",
              "    <tr style=\"text-align: right;\">\n",
              "      <th></th>\n",
              "      <th>team</th>\n",
              "      <th>department</th>\n",
              "      <th>achieve</th>\n",
              "    </tr>\n",
              "  </thead>\n",
              "  <tbody>\n",
              "    <tr>\n",
              "      <th>0</th>\n",
              "      <td>1</td>\n",
              "      <td>finishing</td>\n",
              "      <td>Yes</td>\n",
              "    </tr>\n",
              "    <tr>\n",
              "      <th>1</th>\n",
              "      <td>1</td>\n",
              "      <td>sewing</td>\n",
              "      <td>Yes</td>\n",
              "    </tr>\n",
              "    <tr>\n",
              "      <th>2</th>\n",
              "      <td>2</td>\n",
              "      <td>finishing</td>\n",
              "      <td>Yes</td>\n",
              "    </tr>\n",
              "    <tr>\n",
              "      <th>3</th>\n",
              "      <td>2</td>\n",
              "      <td>sewing</td>\n",
              "      <td>Yes</td>\n",
              "    </tr>\n",
              "    <tr>\n",
              "      <th>4</th>\n",
              "      <td>3</td>\n",
              "      <td>finishing</td>\n",
              "      <td>Yes</td>\n",
              "    </tr>\n",
              "    <tr>\n",
              "      <th>5</th>\n",
              "      <td>3</td>\n",
              "      <td>sewing</td>\n",
              "      <td>Yes</td>\n",
              "    </tr>\n",
              "    <tr>\n",
              "      <th>6</th>\n",
              "      <td>4</td>\n",
              "      <td>finishing</td>\n",
              "      <td>Yes</td>\n",
              "    </tr>\n",
              "    <tr>\n",
              "      <th>7</th>\n",
              "      <td>4</td>\n",
              "      <td>sewing</td>\n",
              "      <td>Yes</td>\n",
              "    </tr>\n",
              "    <tr>\n",
              "      <th>8</th>\n",
              "      <td>5</td>\n",
              "      <td>finishing</td>\n",
              "      <td>Yes</td>\n",
              "    </tr>\n",
              "    <tr>\n",
              "      <th>9</th>\n",
              "      <td>5</td>\n",
              "      <td>sewing</td>\n",
              "      <td>No</td>\n",
              "    </tr>\n",
              "    <tr>\n",
              "      <th>10</th>\n",
              "      <td>6</td>\n",
              "      <td>finishing</td>\n",
              "      <td>No</td>\n",
              "    </tr>\n",
              "    <tr>\n",
              "      <th>11</th>\n",
              "      <td>6</td>\n",
              "      <td>sewing</td>\n",
              "      <td>No</td>\n",
              "    </tr>\n",
              "    <tr>\n",
              "      <th>12</th>\n",
              "      <td>7</td>\n",
              "      <td>finishing</td>\n",
              "      <td>No</td>\n",
              "    </tr>\n",
              "    <tr>\n",
              "      <th>13</th>\n",
              "      <td>7</td>\n",
              "      <td>sewing</td>\n",
              "      <td>No</td>\n",
              "    </tr>\n",
              "    <tr>\n",
              "      <th>14</th>\n",
              "      <td>8</td>\n",
              "      <td>finishing</td>\n",
              "      <td>No</td>\n",
              "    </tr>\n",
              "    <tr>\n",
              "      <th>15</th>\n",
              "      <td>8</td>\n",
              "      <td>sewing</td>\n",
              "      <td>No</td>\n",
              "    </tr>\n",
              "    <tr>\n",
              "      <th>16</th>\n",
              "      <td>9</td>\n",
              "      <td>finishing</td>\n",
              "      <td>No</td>\n",
              "    </tr>\n",
              "    <tr>\n",
              "      <th>17</th>\n",
              "      <td>9</td>\n",
              "      <td>sewing</td>\n",
              "      <td>No</td>\n",
              "    </tr>\n",
              "    <tr>\n",
              "      <th>18</th>\n",
              "      <td>10</td>\n",
              "      <td>finishing</td>\n",
              "      <td>No</td>\n",
              "    </tr>\n",
              "    <tr>\n",
              "      <th>19</th>\n",
              "      <td>10</td>\n",
              "      <td>sewing</td>\n",
              "      <td>No</td>\n",
              "    </tr>\n",
              "    <tr>\n",
              "      <th>20</th>\n",
              "      <td>11</td>\n",
              "      <td>finishing</td>\n",
              "      <td>No</td>\n",
              "    </tr>\n",
              "    <tr>\n",
              "      <th>21</th>\n",
              "      <td>11</td>\n",
              "      <td>sewing</td>\n",
              "      <td>No</td>\n",
              "    </tr>\n",
              "    <tr>\n",
              "      <th>22</th>\n",
              "      <td>12</td>\n",
              "      <td>finishing</td>\n",
              "      <td>Yes</td>\n",
              "    </tr>\n",
              "    <tr>\n",
              "      <th>23</th>\n",
              "      <td>12</td>\n",
              "      <td>sewing</td>\n",
              "      <td>No</td>\n",
              "    </tr>\n",
              "  </tbody>\n",
              "</table>\n",
              "</div>\n",
              "      <button class=\"colab-df-convert\" onclick=\"convertToInteractive('df-3b5b8fe9-f748-4e47-a41d-8e05f76478a7')\"\n",
              "              title=\"Convert this dataframe to an interactive table.\"\n",
              "              style=\"display:none;\">\n",
              "        \n",
              "  <svg xmlns=\"http://www.w3.org/2000/svg\" height=\"24px\"viewBox=\"0 0 24 24\"\n",
              "       width=\"24px\">\n",
              "    <path d=\"M0 0h24v24H0V0z\" fill=\"none\"/>\n",
              "    <path d=\"M18.56 5.44l.94 2.06.94-2.06 2.06-.94-2.06-.94-.94-2.06-.94 2.06-2.06.94zm-11 1L8.5 8.5l.94-2.06 2.06-.94-2.06-.94L8.5 2.5l-.94 2.06-2.06.94zm10 10l.94 2.06.94-2.06 2.06-.94-2.06-.94-.94-2.06-.94 2.06-2.06.94z\"/><path d=\"M17.41 7.96l-1.37-1.37c-.4-.4-.92-.59-1.43-.59-.52 0-1.04.2-1.43.59L10.3 9.45l-7.72 7.72c-.78.78-.78 2.05 0 2.83L4 21.41c.39.39.9.59 1.41.59.51 0 1.02-.2 1.41-.59l7.78-7.78 2.81-2.81c.8-.78.8-2.07 0-2.86zM5.41 20L4 18.59l7.72-7.72 1.47 1.35L5.41 20z\"/>\n",
              "  </svg>\n",
              "      </button>\n",
              "      \n",
              "  <style>\n",
              "    .colab-df-container {\n",
              "      display:flex;\n",
              "      flex-wrap:wrap;\n",
              "      gap: 12px;\n",
              "    }\n",
              "\n",
              "    .colab-df-convert {\n",
              "      background-color: #E8F0FE;\n",
              "      border: none;\n",
              "      border-radius: 50%;\n",
              "      cursor: pointer;\n",
              "      display: none;\n",
              "      fill: #1967D2;\n",
              "      height: 32px;\n",
              "      padding: 0 0 0 0;\n",
              "      width: 32px;\n",
              "    }\n",
              "\n",
              "    .colab-df-convert:hover {\n",
              "      background-color: #E2EBFA;\n",
              "      box-shadow: 0px 1px 2px rgba(60, 64, 67, 0.3), 0px 1px 3px 1px rgba(60, 64, 67, 0.15);\n",
              "      fill: #174EA6;\n",
              "    }\n",
              "\n",
              "    [theme=dark] .colab-df-convert {\n",
              "      background-color: #3B4455;\n",
              "      fill: #D2E3FC;\n",
              "    }\n",
              "\n",
              "    [theme=dark] .colab-df-convert:hover {\n",
              "      background-color: #434B5C;\n",
              "      box-shadow: 0px 1px 3px 1px rgba(0, 0, 0, 0.15);\n",
              "      filter: drop-shadow(0px 1px 2px rgba(0, 0, 0, 0.3));\n",
              "      fill: #FFFFFF;\n",
              "    }\n",
              "  </style>\n",
              "\n",
              "      <script>\n",
              "        const buttonEl =\n",
              "          document.querySelector('#df-3b5b8fe9-f748-4e47-a41d-8e05f76478a7 button.colab-df-convert');\n",
              "        buttonEl.style.display =\n",
              "          google.colab.kernel.accessAllowed ? 'block' : 'none';\n",
              "\n",
              "        async function convertToInteractive(key) {\n",
              "          const element = document.querySelector('#df-3b5b8fe9-f748-4e47-a41d-8e05f76478a7');\n",
              "          const dataTable =\n",
              "            await google.colab.kernel.invokeFunction('convertToInteractive',\n",
              "                                                     [key], {});\n",
              "          if (!dataTable) return;\n",
              "\n",
              "          const docLinkHtml = 'Like what you see? Visit the ' +\n",
              "            '<a target=\"_blank\" href=https://colab.research.google.com/notebooks/data_table.ipynb>data table notebook</a>'\n",
              "            + ' to learn more about interactive tables.';\n",
              "          element.innerHTML = '';\n",
              "          dataTable['output_type'] = 'display_data';\n",
              "          await google.colab.output.renderOutput(dataTable, element);\n",
              "          const docLink = document.createElement('div');\n",
              "          docLink.innerHTML = docLinkHtml;\n",
              "          element.appendChild(docLink);\n",
              "        }\n",
              "      </script>\n",
              "    </div>\n",
              "  </div>\n",
              "  "
            ]
          },
          "metadata": {},
          "execution_count": 23
        }
      ]
    },
    {
      "cell_type": "markdown",
      "source": [
        "After the extensive exploring, the team's productivity by department shows different achievements for team **5** and **12**.\n",
        "\n",
        "Let's look deeper for each `department` in `team`"
      ],
      "metadata": {
        "id": "TYksQ3vGgG1E"
      }
    },
    {
      "cell_type": "code",
      "source": [
        "f, (ax1, ax2) = plt.subplots(1, 2, figsize = (15, 5))\n",
        "sns.barplot(data = garments, x = 'team', y = 'targeted_productivity', hue = 'department', ax = ax1, ci = None)\n",
        "sns.move_legend(ax1, \"lower center\", bbox_to_anchor=(.5, 1), title='Targeted Productivity per Department', ncol = 2, frameon = False)\n",
        "sns.barplot(data = garments, x = 'team', y = 'actual_productivity', hue = 'department', ax = ax2, ci = None)\n",
        "sns.move_legend(ax2, \"lower center\", bbox_to_anchor=(.5, 1), title='Actual Productivity per Department', ncol = 2, frameon = False)"
      ],
      "metadata": {
        "colab": {
          "base_uri": "https://localhost:8080/",
          "height": 382
        },
        "id": "QHGPA0tmXq1G",
        "outputId": "0b9bc855-628a-4143-defc-425a525e8fd1"
      },
      "execution_count": 24,
      "outputs": [
        {
          "output_type": "display_data",
          "data": {
            "text/plain": [
              "<Figure size 1080x360 with 2 Axes>"
            ],
            "image/png": "[encoded data removed]"
          },
          "metadata": {
            "needs_background": "light"
          }
        }
      ]
    },
    {
      "cell_type": "code",
      "source": [
        "f, ((ax1, ax2), (ax3, ax4)) = plt.subplots(2, 2, figsize = (15,10))\n",
        "\n",
        "sns.barplot(data = garments, x = 'team', y = 'over_time', hue = 'department', ax = ax1, ci = None)\n",
        "sns.move_legend(ax1, \"lower center\", bbox_to_anchor=(.5, 1), title = \"Team's Overtime per Department\", ncol = 2, frameon = False)\n",
        "sns.barplot(data = garments, x = 'team', y = 'incentive', hue = 'department', ax = ax2, estimator = np.sum, ci = None)\n",
        "sns.move_legend(ax2, \"lower center\", bbox_to_anchor=(.5, 1), title = \"Team's Incentive per Department\", ncol = 2, frameon = False)\n",
        "sns.barplot(data = garments, x = 'team', y = 'no_of_workers', hue = 'department', ax = ax3, ci = None)\n",
        "sns.move_legend(ax3, \"lower center\", bbox_to_anchor=(.5, 1), title = \"Team's Manpower per Department\", ncol = 2, frameon = False)\n",
        "sns.barplot(data = garments, x = 'team', y = 'wip', hue = 'department', ax = ax4, ci = None)\n",
        "sns.move_legend(ax4, \"lower center\", bbox_to_anchor=(.5, 1), title = \"Team's WIP per Department\", ncol = 2, frameon = False)\n",
        "\n",
        "plt.tight_layout()"
      ],
      "metadata": {
        "colab": {
          "base_uri": "https://localhost:8080/",
          "height": 729
        },
        "id": "RmV-gq3JX9Ty",
        "outputId": "74706ecd-0f60-4b1c-b92c-26721f6418e3"
      },
      "execution_count": 25,
      "outputs": [
        {
          "output_type": "display_data",
          "data": {
            "text/plain": [
              "<Figure size 1080x720 with 4 Axes>"
            ],
            "image/png": "[encoded data removed]"
          },
          "metadata": {
            "needs_background": "light"
          }
        }
      ]
    },
    {
      "cell_type": "markdown",
      "source": [
        "From the graphs, it can be concluded that there is significant difference beetween team's overtime and team's incentive based on team's achievements. **Finishing** in team **6** and **7**, they have a lot of overtime. However, they didn't get any `incentive`. And the `incentive` paid to the workers has different calculation between the `no_of_workers`. This should be company's attention."
      ],
      "metadata": {
        "id": "8oI0shEZguEi"
      }
    },
    {
      "cell_type": "code",
      "source": [
        "f, ((ax1), (ax2), (ax3)) = plt.subplots(3, 1, figsize = (15, 15))\n",
        "\n",
        "sns.barplot(data = garments, x = 'team', y = 'smv', hue = 'department', ax = ax1, ci = None)\n",
        "sns.move_legend(ax1, \"lower center\", bbox_to_anchor=(.5, 1), title = \"Team's SMV per Department\", ncol = 2, frameon = False)\n",
        "sns.barplot(data = garments, x = 'team', y = 'idle_time', hue = 'department', ax = ax2, estimator = np.sum, ci = None)\n",
        "sns.move_legend(ax2, \"lower center\", bbox_to_anchor=(.5, 1), title = \"Team's Interrupted Time per Department\", ncol = 2, frameon = False)\n",
        "sns.barplot(data = garments, x = 'team', y = 'no_of_style_change', hue = 'department', ax = ax3, ci = None)\n",
        "sns.move_legend(ax3, \"lower center\", bbox_to_anchor=(.5, 1), title = \"Team's Changes in the Style per Department\", ncol = 2, frameon = False)\n",
        "\n",
        "plt.tight_layout()"
      ],
      "metadata": {
        "colab": {
          "base_uri": "https://localhost:8080/",
          "height": 1000
        },
        "id": "KqsF8yrNYFZf",
        "outputId": "78fba4a3-e2c6-40dd-da2e-5649c57e3da8"
      },
      "execution_count": 26,
      "outputs": [
        {
          "output_type": "display_data",
          "data": {
            "text/plain": [
              "<Figure size 1080x1080 with 3 Axes>"
            ],
            "image/png": "[encoded data removed]"
          },
          "metadata": {
            "needs_background": "light"
          }
        }
      ]
    },
    {
      "cell_type": "markdown",
      "source": [
        "From the whole charts, the **finishing** `department` can be concluded that the whole process is depending on **sewing** since the **finishing** team works after they get **sewing**'s handover.\n",
        "\n",
        "#### Variable's Correlation\n",
        "\n",
        "Now, let's check the correlation between the variables."
      ],
      "metadata": {
        "id": "GD5f74Pml923"
      }
    },
    {
      "cell_type": "code",
      "source": [
        "plt.figure(figsize = (10, 10))\n",
        "sns.heatmap(garments.corr(), cmap = \"Spectral\", annot = True, linewidth = 1)"
      ],
      "metadata": {
        "colab": {
          "base_uri": "https://localhost:8080/",
          "height": 725
        },
        "id": "CIWEvBvcTG1l",
        "outputId": "95145189-26f9-4e6d-ed8f-315b3d662602"
      },
      "execution_count": 27,
      "outputs": [
        {
          "output_type": "execute_result",
          "data": {
            "text/plain": [
              "<matplotlib.axes._subplots.AxesSubplot at 0x7fd9345263d0>"
            ]
          },
          "metadata": {},
          "execution_count": 27
        },
        {
          "output_type": "display_data",
          "data": {
            "text/plain": [
              "<Figure size 720x720 with 2 Axes>"
            ],
            "image/png": "[encoded data removed]"
          },
          "metadata": {
            "needs_background": "light"
          }
        }
      ]
    },
    {
      "cell_type": "markdown",
      "source": [
        "**Highest Positive Correlations**:\n",
        "\n",
        "\n",
        "*   `no_of workers` and `smv` (**0.91**)\n",
        "*   `no_of workers` and `over_time` (**0.73**)\n",
        "*   `over_time` and `smv` (**0.67**)\n",
        "*   `idle_men` and `idle_time` (**0.56**)\n",
        "\n",
        "\n",
        "**Positive Correlations**:\n",
        "\n",
        "\n",
        "*   `no_of workers` and `no_of_style_change` (**0.33**)\n",
        "*   `no_of_style_change` and `smv` (**0.32**)\n",
        "\n",
        "There is no obvious negative correlation between features"
      ],
      "metadata": {
        "id": "Eaew31TP6rUb"
      }
    },
    {
      "cell_type": "markdown",
      "source": [
        "#### Define the Dataset\n",
        "\n",
        "After doing the EDA, it's time to define the dataset. From the information, `date` is no longer needed. Let's remove `date`"
      ],
      "metadata": {
        "id": "irM_k5UcckJt"
      }
    },
    {
      "cell_type": "code",
      "source": [
        "garments = garments.drop(columns = 'date')\n",
        "garments.head()"
      ],
      "metadata": {
        "id": "_wM4HnEJcjeY",
        "colab": {
          "base_uri": "https://localhost:8080/",
          "height": 270
        },
        "outputId": "213ff2c5-a445-46d9-e493-71d6410cf531"
      },
      "execution_count": 28,
      "outputs": [
        {
          "output_type": "execute_result",
          "data": {
            "text/plain": [
              "    quarter department       day  team  targeted_productivity    smv     wip  \\\n",
              "0  Quarter1     sewing  Thursday     8                   0.80  26.16  1108.0   \n",
              "1  Quarter1  finishing  Thursday     1                   0.75   3.94     0.0   \n",
              "2  Quarter1     sewing  Thursday    11                   0.80  11.41   968.0   \n",
              "3  Quarter1     sewing  Thursday    12                   0.80  11.41   968.0   \n",
              "4  Quarter1     sewing  Thursday     6                   0.80  25.90  1170.0   \n",
              "\n",
              "   over_time  incentive  idle_time  idle_men  no_of_style_change  \\\n",
              "0       7080         98        0.0         0                   0   \n",
              "1        960          0        0.0         0                   0   \n",
              "2       3660         50        0.0         0                   0   \n",
              "3       3660         50        0.0         0                   0   \n",
              "4       1920         50        0.0         0                   0   \n",
              "\n",
              "   no_of_workers  actual_productivity  \n",
              "0           59.0             0.940725  \n",
              "1            8.0             0.886500  \n",
              "2           30.5             0.800570  \n",
              "3           30.5             0.800570  \n",
              "4           56.0             0.800382  "
            ],
            "text/html": [
              "\n",
              "  <div id=\"df-5ea7c285-4245-453e-bade-b5cb9150618d\">\n",
              "    <div class=\"colab-df-container\">\n",
              "      <div>\n",
              "<style scoped>\n",
              "    .dataframe tbody tr th:only-of-type {\n",
              "        vertical-align: middle;\n",
              "    }\n",
              "\n",
              "    .dataframe tbody tr th {\n",
              "        vertical-align: top;\n",
              "    }\n",
              "\n",
              "    .dataframe thead th {\n",
              "        text-align: right;\n",
              "    }\n",
              "</style>\n",
              "<table border=\"1\" class=\"dataframe\">\n",
              "  <thead>\n",
              "    <tr style=\"text-align: right;\">\n",
              "      <th></th>\n",
              "      <th>quarter</th>\n",
              "      <th>department</th>\n",
              "      <th>day</th>\n",
              "      <th>team</th>\n",
              "      <th>targeted_productivity</th>\n",
              "      <th>smv</th>\n",
              "      <th>wip</th>\n",
              "      <th>over_time</th>\n",
              "      <th>incentive</th>\n",
              "      <th>idle_time</th>\n",
              "      <th>idle_men</th>\n",
              "      <th>no_of_style_change</th>\n",
              "      <th>no_of_workers</th>\n",
              "      <th>actual_productivity</th>\n",
              "    </tr>\n",
              "  </thead>\n",
              "  <tbody>\n",
              "    <tr>\n",
              "      <th>0</th>\n",
              "      <td>Quarter1</td>\n",
              "      <td>sewing</td>\n",
              "      <td>Thursday</td>\n",
              "      <td>8</td>\n",
              "      <td>0.80</td>\n",
              "      <td>26.16</td>\n",
              "      <td>1108.0</td>\n",
              "      <td>7080</td>\n",
              "      <td>98</td>\n",
              "      <td>0.0</td>\n",
              "      <td>0</td>\n",
              "      <td>0</td>\n",
              "      <td>59.0</td>\n",
              "      <td>0.940725</td>\n",
              "    </tr>\n",
              "    <tr>\n",
              "      <th>1</th>\n",
              "      <td>Quarter1</td>\n",
              "      <td>finishing</td>\n",
              "      <td>Thursday</td>\n",
              "      <td>1</td>\n",
              "      <td>0.75</td>\n",
              "      <td>3.94</td>\n",
              "      <td>0.0</td>\n",
              "      <td>960</td>\n",
              "      <td>0</td>\n",
              "      <td>0.0</td>\n",
              "      <td>0</td>\n",
              "      <td>0</td>\n",
              "      <td>8.0</td>\n",
              "      <td>0.886500</td>\n",
              "    </tr>\n",
              "    <tr>\n",
              "      <th>2</th>\n",
              "      <td>Quarter1</td>\n",
              "      <td>sewing</td>\n",
              "      <td>Thursday</td>\n",
              "      <td>11</td>\n",
              "      <td>0.80</td>\n",
              "      <td>11.41</td>\n",
              "      <td>968.0</td>\n",
              "      <td>3660</td>\n",
              "      <td>50</td>\n",
              "      <td>0.0</td>\n",
              "      <td>0</td>\n",
              "      <td>0</td>\n",
              "      <td>30.5</td>\n",
              "      <td>0.800570</td>\n",
              "    </tr>\n",
              "    <tr>\n",
              "      <th>3</th>\n",
              "      <td>Quarter1</td>\n",
              "      <td>sewing</td>\n",
              "      <td>Thursday</td>\n",
              "      <td>12</td>\n",
              "      <td>0.80</td>\n",
              "      <td>11.41</td>\n",
              "      <td>968.0</td>\n",
              "      <td>3660</td>\n",
              "      <td>50</td>\n",
              "      <td>0.0</td>\n",
              "      <td>0</td>\n",
              "      <td>0</td>\n",
              "      <td>30.5</td>\n",
              "      <td>0.800570</td>\n",
              "    </tr>\n",
              "    <tr>\n",
              "      <th>4</th>\n",
              "      <td>Quarter1</td>\n",
              "      <td>sewing</td>\n",
              "      <td>Thursday</td>\n",
              "      <td>6</td>\n",
              "      <td>0.80</td>\n",
              "      <td>25.90</td>\n",
              "      <td>1170.0</td>\n",
              "      <td>1920</td>\n",
              "      <td>50</td>\n",
              "      <td>0.0</td>\n",
              "      <td>0</td>\n",
              "      <td>0</td>\n",
              "      <td>56.0</td>\n",
              "      <td>0.800382</td>\n",
              "    </tr>\n",
              "  </tbody>\n",
              "</table>\n",
              "</div>\n",
              "      <button class=\"colab-df-convert\" onclick=\"convertToInteractive('df-5ea7c285-4245-453e-bade-b5cb9150618d')\"\n",
              "              title=\"Convert this dataframe to an interactive table.\"\n",
              "              style=\"display:none;\">\n",
              "        \n",
              "  <svg xmlns=\"http://www.w3.org/2000/svg\" height=\"24px\"viewBox=\"0 0 24 24\"\n",
              "       width=\"24px\">\n",
              "    <path d=\"M0 0h24v24H0V0z\" fill=\"none\"/>\n",
              "    <path d=\"M18.56 5.44l.94 2.06.94-2.06 2.06-.94-2.06-.94-.94-2.06-.94 2.06-2.06.94zm-11 1L8.5 8.5l.94-2.06 2.06-.94-2.06-.94L8.5 2.5l-.94 2.06-2.06.94zm10 10l.94 2.06.94-2.06 2.06-.94-2.06-.94-.94-2.06-.94 2.06-2.06.94z\"/><path d=\"M17.41 7.96l-1.37-1.37c-.4-.4-.92-.59-1.43-.59-.52 0-1.04.2-1.43.59L10.3 9.45l-7.72 7.72c-.78.78-.78 2.05 0 2.83L4 21.41c.39.39.9.59 1.41.59.51 0 1.02-.2 1.41-.59l7.78-7.78 2.81-2.81c.8-.78.8-2.07 0-2.86zM5.41 20L4 18.59l7.72-7.72 1.47 1.35L5.41 20z\"/>\n",
              "  </svg>\n",
              "      </button>\n",
              "      \n",
              "  <style>\n",
              "    .colab-df-container {\n",
              "      display:flex;\n",
              "      flex-wrap:wrap;\n",
              "      gap: 12px;\n",
              "    }\n",
              "\n",
              "    .colab-df-convert {\n",
              "      background-color: #E8F0FE;\n",
              "      border: none;\n",
              "      border-radius: 50%;\n",
              "      cursor: pointer;\n",
              "      display: none;\n",
              "      fill: #1967D2;\n",
              "      height: 32px;\n",
              "      padding: 0 0 0 0;\n",
              "      width: 32px;\n",
              "    }\n",
              "\n",
              "    .colab-df-convert:hover {\n",
              "      background-color: #E2EBFA;\n",
              "      box-shadow: 0px 1px 2px rgba(60, 64, 67, 0.3), 0px 1px 3px 1px rgba(60, 64, 67, 0.15);\n",
              "      fill: #174EA6;\n",
              "    }\n",
              "\n",
              "    [theme=dark] .colab-df-convert {\n",
              "      background-color: #3B4455;\n",
              "      fill: #D2E3FC;\n",
              "    }\n",
              "\n",
              "    [theme=dark] .colab-df-convert:hover {\n",
              "      background-color: #434B5C;\n",
              "      box-shadow: 0px 1px 3px 1px rgba(0, 0, 0, 0.15);\n",
              "      filter: drop-shadow(0px 1px 2px rgba(0, 0, 0, 0.3));\n",
              "      fill: #FFFFFF;\n",
              "    }\n",
              "  </style>\n",
              "\n",
              "      <script>\n",
              "        const buttonEl =\n",
              "          document.querySelector('#df-5ea7c285-4245-453e-bade-b5cb9150618d button.colab-df-convert');\n",
              "        buttonEl.style.display =\n",
              "          google.colab.kernel.accessAllowed ? 'block' : 'none';\n",
              "\n",
              "        async function convertToInteractive(key) {\n",
              "          const element = document.querySelector('#df-5ea7c285-4245-453e-bade-b5cb9150618d');\n",
              "          const dataTable =\n",
              "            await google.colab.kernel.invokeFunction('convertToInteractive',\n",
              "                                                     [key], {});\n",
              "          if (!dataTable) return;\n",
              "\n",
              "          const docLinkHtml = 'Like what you see? Visit the ' +\n",
              "            '<a target=\"_blank\" href=https://colab.research.google.com/notebooks/data_table.ipynb>data table notebook</a>'\n",
              "            + ' to learn more about interactive tables.';\n",
              "          element.innerHTML = '';\n",
              "          dataTable['output_type'] = 'display_data';\n",
              "          await google.colab.output.renderOutput(dataTable, element);\n",
              "          const docLink = document.createElement('div');\n",
              "          docLink.innerHTML = docLinkHtml;\n",
              "          element.appendChild(docLink);\n",
              "        }\n",
              "      </script>\n",
              "    </div>\n",
              "  </div>\n",
              "  "
            ]
          },
          "metadata": {},
          "execution_count": 28
        }
      ]
    },
    {
      "cell_type": "markdown",
      "source": [
        "### Feature Engineering\n",
        "\n",
        "#### Standardize Numerical Attributes\n",
        "\n",
        "Now, let's scale the numeric value"
      ],
      "metadata": {
        "id": "FjVvt35p45MC"
      }
    },
    {
      "cell_type": "code",
      "source": [
        "from sklearn.preprocessing import StandardScaler\n",
        "num_cols = ['targeted_productivity', 'smv', 'wip', 'over_time', 'incentive', 'idle_time', 'idle_men', 'no_of_style_change', 'no_of_workers', 'actual_productivity']\n",
        "scaler = StandardScaler()\n",
        "garments[num_cols] = scaler.fit_transform(garments[num_cols])\n",
        "garments[['day', 'team']] = garments[['day', 'team']].astype(str)\n",
        "garments.head()"
      ],
      "metadata": {
        "colab": {
          "base_uri": "https://localhost:8080/",
          "height": 270
        },
        "id": "FZWgHRAMZD7M",
        "outputId": "60ae6620-6182-4c04-9397-6a0059a6de26"
      },
      "execution_count": 29,
      "outputs": [
        {
          "output_type": "execute_result",
          "data": {
            "text/plain": [
              "    quarter department       day team  targeted_productivity       smv  \\\n",
              "0  Quarter1     sewing  Thursday    8               0.719137  1.014552   \n",
              "1  Quarter1  finishing  Thursday    1               0.208151 -1.016778   \n",
              "2  Quarter1     sewing  Thursday   11               0.719137 -0.333878   \n",
              "3  Quarter1     sewing  Thursday   12               0.719137 -0.333878   \n",
              "4  Quarter1     sewing  Thursday    6               0.719137  0.990783   \n",
              "\n",
              "        wip  over_time  incentive  idle_time  idle_men  no_of_style_change  \\\n",
              "0  0.277930   0.750589   0.373414  -0.057473 -0.113005           -0.351617   \n",
              "1 -0.453931  -1.077682  -0.238643  -0.057473 -0.113005           -0.351617   \n",
              "2  0.185457  -0.271092   0.073631  -0.057473 -0.113005           -0.351617   \n",
              "3  0.185457  -0.271092   0.073631  -0.057473 -0.113005           -0.351617   \n",
              "4  0.318882  -0.790895   0.073631  -0.057473 -0.113005           -0.351617   \n",
              "\n",
              "   no_of_workers  actual_productivity  \n",
              "0       1.099229             1.178994  \n",
              "1      -1.199268             0.868096  \n",
              "2      -0.185225             0.375423  \n",
              "3      -0.185225             0.375423  \n",
              "4       0.964023             0.374342  "
            ],
            "text/html": [
              "\n",
              "  <div id=\"df-32c3c1ad-b2c2-4b54-a00d-7a68dc4558be\">\n",
              "    <div class=\"colab-df-container\">\n",
              "      <div>\n",
              "<style scoped>\n",
              "    .dataframe tbody tr th:only-of-type {\n",
              "        vertical-align: middle;\n",
              "    }\n",
              "\n",
              "    .dataframe tbody tr th {\n",
              "        vertical-align: top;\n",
              "    }\n",
              "\n",
              "    .dataframe thead th {\n",
              "        text-align: right;\n",
              "    }\n",
              "</style>\n",
              "<table border=\"1\" class=\"dataframe\">\n",
              "  <thead>\n",
              "    <tr style=\"text-align: right;\">\n",
              "      <th></th>\n",
              "      <th>quarter</th>\n",
              "      <th>department</th>\n",
              "      <th>day</th>\n",
              "      <th>team</th>\n",
              "      <th>targeted_productivity</th>\n",
              "      <th>smv</th>\n",
              "      <th>wip</th>\n",
              "      <th>over_time</th>\n",
              "      <th>incentive</th>\n",
              "      <th>idle_time</th>\n",
              "      <th>idle_men</th>\n",
              "      <th>no_of_style_change</th>\n",
              "      <th>no_of_workers</th>\n",
              "      <th>actual_productivity</th>\n",
              "    </tr>\n",
              "  </thead>\n",
              "  <tbody>\n",
              "    <tr>\n",
              "      <th>0</th>\n",
              "      <td>Quarter1</td>\n",
              "      <td>sewing</td>\n",
              "      <td>Thursday</td>\n",
              "      <td>8</td>\n",
              "      <td>0.719137</td>\n",
              "      <td>1.014552</td>\n",
              "      <td>0.277930</td>\n",
              "      <td>0.750589</td>\n",
              "      <td>0.373414</td>\n",
              "      <td>-0.057473</td>\n",
              "      <td>-0.113005</td>\n",
              "      <td>-0.351617</td>\n",
              "      <td>1.099229</td>\n",
              "      <td>1.178994</td>\n",
              "    </tr>\n",
              "    <tr>\n",
              "      <th>1</th>\n",
              "      <td>Quarter1</td>\n",
              "      <td>finishing</td>\n",
              "      <td>Thursday</td>\n",
              "      <td>1</td>\n",
              "      <td>0.208151</td>\n",
              "      <td>-1.016778</td>\n",
              "      <td>-0.453931</td>\n",
              "      <td>-1.077682</td>\n",
              "      <td>-0.238643</td>\n",
              "      <td>-0.057473</td>\n",
              "      <td>-0.113005</td>\n",
              "      <td>-0.351617</td>\n",
              "      <td>-1.199268</td>\n",
              "      <td>0.868096</td>\n",
              "    </tr>\n",
              "    <tr>\n",
              "      <th>2</th>\n",
              "      <td>Quarter1</td>\n",
              "      <td>sewing</td>\n",
              "      <td>Thursday</td>\n",
              "      <td>11</td>\n",
              "      <td>0.719137</td>\n",
              "      <td>-0.333878</td>\n",
              "      <td>0.185457</td>\n",
              "      <td>-0.271092</td>\n",
              "      <td>0.073631</td>\n",
              "      <td>-0.057473</td>\n",
              "      <td>-0.113005</td>\n",
              "      <td>-0.351617</td>\n",
              "      <td>-0.185225</td>\n",
              "      <td>0.375423</td>\n",
              "    </tr>\n",
              "    <tr>\n",
              "      <th>3</th>\n",
              "      <td>Quarter1</td>\n",
              "      <td>sewing</td>\n",
              "      <td>Thursday</td>\n",
              "      <td>12</td>\n",
              "      <td>0.719137</td>\n",
              "      <td>-0.333878</td>\n",
              "      <td>0.185457</td>\n",
              "      <td>-0.271092</td>\n",
              "      <td>0.073631</td>\n",
              "      <td>-0.057473</td>\n",
              "      <td>-0.113005</td>\n",
              "      <td>-0.351617</td>\n",
              "      <td>-0.185225</td>\n",
              "      <td>0.375423</td>\n",
              "    </tr>\n",
              "    <tr>\n",
              "      <th>4</th>\n",
              "      <td>Quarter1</td>\n",
              "      <td>sewing</td>\n",
              "      <td>Thursday</td>\n",
              "      <td>6</td>\n",
              "      <td>0.719137</td>\n",
              "      <td>0.990783</td>\n",
              "      <td>0.318882</td>\n",
              "      <td>-0.790895</td>\n",
              "      <td>0.073631</td>\n",
              "      <td>-0.057473</td>\n",
              "      <td>-0.113005</td>\n",
              "      <td>-0.351617</td>\n",
              "      <td>0.964023</td>\n",
              "      <td>0.374342</td>\n",
              "    </tr>\n",
              "  </tbody>\n",
              "</table>\n",
              "</div>\n",
              "      <button class=\"colab-df-convert\" onclick=\"convertToInteractive('df-32c3c1ad-b2c2-4b54-a00d-7a68dc4558be')\"\n",
              "              title=\"Convert this dataframe to an interactive table.\"\n",
              "              style=\"display:none;\">\n",
              "        \n",
              "  <svg xmlns=\"http://www.w3.org/2000/svg\" height=\"24px\"viewBox=\"0 0 24 24\"\n",
              "       width=\"24px\">\n",
              "    <path d=\"M0 0h24v24H0V0z\" fill=\"none\"/>\n",
              "    <path d=\"M18.56 5.44l.94 2.06.94-2.06 2.06-.94-2.06-.94-.94-2.06-.94 2.06-2.06.94zm-11 1L8.5 8.5l.94-2.06 2.06-.94-2.06-.94L8.5 2.5l-.94 2.06-2.06.94zm10 10l.94 2.06.94-2.06 2.06-.94-2.06-.94-.94-2.06-.94 2.06-2.06.94z\"/><path d=\"M17.41 7.96l-1.37-1.37c-.4-.4-.92-.59-1.43-.59-.52 0-1.04.2-1.43.59L10.3 9.45l-7.72 7.72c-.78.78-.78 2.05 0 2.83L4 21.41c.39.39.9.59 1.41.59.51 0 1.02-.2 1.41-.59l7.78-7.78 2.81-2.81c.8-.78.8-2.07 0-2.86zM5.41 20L4 18.59l7.72-7.72 1.47 1.35L5.41 20z\"/>\n",
              "  </svg>\n",
              "      </button>\n",
              "      \n",
              "  <style>\n",
              "    .colab-df-container {\n",
              "      display:flex;\n",
              "      flex-wrap:wrap;\n",
              "      gap: 12px;\n",
              "    }\n",
              "\n",
              "    .colab-df-convert {\n",
              "      background-color: #E8F0FE;\n",
              "      border: none;\n",
              "      border-radius: 50%;\n",
              "      cursor: pointer;\n",
              "      display: none;\n",
              "      fill: #1967D2;\n",
              "      height: 32px;\n",
              "      padding: 0 0 0 0;\n",
              "      width: 32px;\n",
              "    }\n",
              "\n",
              "    .colab-df-convert:hover {\n",
              "      background-color: #E2EBFA;\n",
              "      box-shadow: 0px 1px 2px rgba(60, 64, 67, 0.3), 0px 1px 3px 1px rgba(60, 64, 67, 0.15);\n",
              "      fill: #174EA6;\n",
              "    }\n",
              "\n",
              "    [theme=dark] .colab-df-convert {\n",
              "      background-color: #3B4455;\n",
              "      fill: #D2E3FC;\n",
              "    }\n",
              "\n",
              "    [theme=dark] .colab-df-convert:hover {\n",
              "      background-color: #434B5C;\n",
              "      box-shadow: 0px 1px 3px 1px rgba(0, 0, 0, 0.15);\n",
              "      filter: drop-shadow(0px 1px 2px rgba(0, 0, 0, 0.3));\n",
              "      fill: #FFFFFF;\n",
              "    }\n",
              "  </style>\n",
              "\n",
              "      <script>\n",
              "        const buttonEl =\n",
              "          document.querySelector('#df-32c3c1ad-b2c2-4b54-a00d-7a68dc4558be button.colab-df-convert');\n",
              "        buttonEl.style.display =\n",
              "          google.colab.kernel.accessAllowed ? 'block' : 'none';\n",
              "\n",
              "        async function convertToInteractive(key) {\n",
              "          const element = document.querySelector('#df-32c3c1ad-b2c2-4b54-a00d-7a68dc4558be');\n",
              "          const dataTable =\n",
              "            await google.colab.kernel.invokeFunction('convertToInteractive',\n",
              "                                                     [key], {});\n",
              "          if (!dataTable) return;\n",
              "\n",
              "          const docLinkHtml = 'Like what you see? Visit the ' +\n",
              "            '<a target=\"_blank\" href=https://colab.research.google.com/notebooks/data_table.ipynb>data table notebook</a>'\n",
              "            + ' to learn more about interactive tables.';\n",
              "          element.innerHTML = '';\n",
              "          dataTable['output_type'] = 'display_data';\n",
              "          await google.colab.output.renderOutput(dataTable, element);\n",
              "          const docLink = document.createElement('div');\n",
              "          docLink.innerHTML = docLinkHtml;\n",
              "          element.appendChild(docLink);\n",
              "        }\n",
              "      </script>\n",
              "    </div>\n",
              "  </div>\n",
              "  "
            ]
          },
          "metadata": {},
          "execution_count": 29
        }
      ]
    },
    {
      "cell_type": "markdown",
      "source": [
        "After scaling the numeric value, it's time to define the **X** and **y** value"
      ],
      "metadata": {
        "id": "ydrbMLsMbX4w"
      }
    },
    {
      "cell_type": "code",
      "source": [
        "y = garments['actual_productivity']\n",
        "X = garments.drop(columns = ['actual_productivity','targeted_productivity'])\n",
        "X.head()"
      ],
      "metadata": {
        "colab": {
          "base_uri": "https://localhost:8080/",
          "height": 206
        },
        "id": "haJRjZsFbm61",
        "outputId": "85bae357-853d-48e6-b38c-401f6bb8071e"
      },
      "execution_count": 30,
      "outputs": [
        {
          "output_type": "execute_result",
          "data": {
            "text/plain": [
              "    quarter department       day team       smv       wip  over_time  \\\n",
              "0  Quarter1     sewing  Thursday    8  1.014552  0.277930   0.750589   \n",
              "1  Quarter1  finishing  Thursday    1 -1.016778 -0.453931  -1.077682   \n",
              "2  Quarter1     sewing  Thursday   11 -0.333878  0.185457  -0.271092   \n",
              "3  Quarter1     sewing  Thursday   12 -0.333878  0.185457  -0.271092   \n",
              "4  Quarter1     sewing  Thursday    6  0.990783  0.318882  -0.790895   \n",
              "\n",
              "   incentive  idle_time  idle_men  no_of_style_change  no_of_workers  \n",
              "0   0.373414  -0.057473 -0.113005           -0.351617       1.099229  \n",
              "1  -0.238643  -0.057473 -0.113005           -0.351617      -1.199268  \n",
              "2   0.073631  -0.057473 -0.113005           -0.351617      -0.185225  \n",
              "3   0.073631  -0.057473 -0.113005           -0.351617      -0.185225  \n",
              "4   0.073631  -0.057473 -0.113005           -0.351617       0.964023  "
            ],
            "text/html": [
              "\n",
              "  <div id=\"df-09dc5298-6e60-4542-bc44-fede99b4e957\">\n",
              "    <div class=\"colab-df-container\">\n",
              "      <div>\n",
              "<style scoped>\n",
              "    .dataframe tbody tr th:only-of-type {\n",
              "        vertical-align: middle;\n",
              "    }\n",
              "\n",
              "    .dataframe tbody tr th {\n",
              "        vertical-align: top;\n",
              "    }\n",
              "\n",
              "    .dataframe thead th {\n",
              "        text-align: right;\n",
              "    }\n",
              "</style>\n",
              "<table border=\"1\" class=\"dataframe\">\n",
              "  <thead>\n",
              "    <tr style=\"text-align: right;\">\n",
              "      <th></th>\n",
              "      <th>quarter</th>\n",
              "      <th>department</th>\n",
              "      <th>day</th>\n",
              "      <th>team</th>\n",
              "      <th>smv</th>\n",
              "      <th>wip</th>\n",
              "      <th>over_time</th>\n",
              "      <th>incentive</th>\n",
              "      <th>idle_time</th>\n",
              "      <th>idle_men</th>\n",
              "      <th>no_of_style_change</th>\n",
              "      <th>no_of_workers</th>\n",
              "    </tr>\n",
              "  </thead>\n",
              "  <tbody>\n",
              "    <tr>\n",
              "      <th>0</th>\n",
              "      <td>Quarter1</td>\n",
              "      <td>sewing</td>\n",
              "      <td>Thursday</td>\n",
              "      <td>8</td>\n",
              "      <td>1.014552</td>\n",
              "      <td>0.277930</td>\n",
              "      <td>0.750589</td>\n",
              "      <td>0.373414</td>\n",
              "      <td>-0.057473</td>\n",
              "      <td>-0.113005</td>\n",
              "      <td>-0.351617</td>\n",
              "      <td>1.099229</td>\n",
              "    </tr>\n",
              "    <tr>\n",
              "      <th>1</th>\n",
              "      <td>Quarter1</td>\n",
              "      <td>finishing</td>\n",
              "      <td>Thursday</td>\n",
              "      <td>1</td>\n",
              "      <td>-1.016778</td>\n",
              "      <td>-0.453931</td>\n",
              "      <td>-1.077682</td>\n",
              "      <td>-0.238643</td>\n",
              "      <td>-0.057473</td>\n",
              "      <td>-0.113005</td>\n",
              "      <td>-0.351617</td>\n",
              "      <td>-1.199268</td>\n",
              "    </tr>\n",
              "    <tr>\n",
              "      <th>2</th>\n",
              "      <td>Quarter1</td>\n",
              "      <td>sewing</td>\n",
              "      <td>Thursday</td>\n",
              "      <td>11</td>\n",
              "      <td>-0.333878</td>\n",
              "      <td>0.185457</td>\n",
              "      <td>-0.271092</td>\n",
              "      <td>0.073631</td>\n",
              "      <td>-0.057473</td>\n",
              "      <td>-0.113005</td>\n",
              "      <td>-0.351617</td>\n",
              "      <td>-0.185225</td>\n",
              "    </tr>\n",
              "    <tr>\n",
              "      <th>3</th>\n",
              "      <td>Quarter1</td>\n",
              "      <td>sewing</td>\n",
              "      <td>Thursday</td>\n",
              "      <td>12</td>\n",
              "      <td>-0.333878</td>\n",
              "      <td>0.185457</td>\n",
              "      <td>-0.271092</td>\n",
              "      <td>0.073631</td>\n",
              "      <td>-0.057473</td>\n",
              "      <td>-0.113005</td>\n",
              "      <td>-0.351617</td>\n",
              "      <td>-0.185225</td>\n",
              "    </tr>\n",
              "    <tr>\n",
              "      <th>4</th>\n",
              "      <td>Quarter1</td>\n",
              "      <td>sewing</td>\n",
              "      <td>Thursday</td>\n",
              "      <td>6</td>\n",
              "      <td>0.990783</td>\n",
              "      <td>0.318882</td>\n",
              "      <td>-0.790895</td>\n",
              "      <td>0.073631</td>\n",
              "      <td>-0.057473</td>\n",
              "      <td>-0.113005</td>\n",
              "      <td>-0.351617</td>\n",
              "      <td>0.964023</td>\n",
              "    </tr>\n",
              "  </tbody>\n",
              "</table>\n",
              "</div>\n",
              "      <button class=\"colab-df-convert\" onclick=\"convertToInteractive('df-09dc5298-6e60-4542-bc44-fede99b4e957')\"\n",
              "              title=\"Convert this dataframe to an interactive table.\"\n",
              "              style=\"display:none;\">\n",
              "        \n",
              "  <svg xmlns=\"http://www.w3.org/2000/svg\" height=\"24px\"viewBox=\"0 0 24 24\"\n",
              "       width=\"24px\">\n",
              "    <path d=\"M0 0h24v24H0V0z\" fill=\"none\"/>\n",
              "    <path d=\"M18.56 5.44l.94 2.06.94-2.06 2.06-.94-2.06-.94-.94-2.06-.94 2.06-2.06.94zm-11 1L8.5 8.5l.94-2.06 2.06-.94-2.06-.94L8.5 2.5l-.94 2.06-2.06.94zm10 10l.94 2.06.94-2.06 2.06-.94-2.06-.94-.94-2.06-.94 2.06-2.06.94z\"/><path d=\"M17.41 7.96l-1.37-1.37c-.4-.4-.92-.59-1.43-.59-.52 0-1.04.2-1.43.59L10.3 9.45l-7.72 7.72c-.78.78-.78 2.05 0 2.83L4 21.41c.39.39.9.59 1.41.59.51 0 1.02-.2 1.41-.59l7.78-7.78 2.81-2.81c.8-.78.8-2.07 0-2.86zM5.41 20L4 18.59l7.72-7.72 1.47 1.35L5.41 20z\"/>\n",
              "  </svg>\n",
              "      </button>\n",
              "      \n",
              "  <style>\n",
              "    .colab-df-container {\n",
              "      display:flex;\n",
              "      flex-wrap:wrap;\n",
              "      gap: 12px;\n",
              "    }\n",
              "\n",
              "    .colab-df-convert {\n",
              "      background-color: #E8F0FE;\n",
              "      border: none;\n",
              "      border-radius: 50%;\n",
              "      cursor: pointer;\n",
              "      display: none;\n",
              "      fill: #1967D2;\n",
              "      height: 32px;\n",
              "      padding: 0 0 0 0;\n",
              "      width: 32px;\n",
              "    }\n",
              "\n",
              "    .colab-df-convert:hover {\n",
              "      background-color: #E2EBFA;\n",
              "      box-shadow: 0px 1px 2px rgba(60, 64, 67, 0.3), 0px 1px 3px 1px rgba(60, 64, 67, 0.15);\n",
              "      fill: #174EA6;\n",
              "    }\n",
              "\n",
              "    [theme=dark] .colab-df-convert {\n",
              "      background-color: #3B4455;\n",
              "      fill: #D2E3FC;\n",
              "    }\n",
              "\n",
              "    [theme=dark] .colab-df-convert:hover {\n",
              "      background-color: #434B5C;\n",
              "      box-shadow: 0px 1px 3px 1px rgba(0, 0, 0, 0.15);\n",
              "      filter: drop-shadow(0px 1px 2px rgba(0, 0, 0, 0.3));\n",
              "      fill: #FFFFFF;\n",
              "    }\n",
              "  </style>\n",
              "\n",
              "      <script>\n",
              "        const buttonEl =\n",
              "          document.querySelector('#df-09dc5298-6e60-4542-bc44-fede99b4e957 button.colab-df-convert');\n",
              "        buttonEl.style.display =\n",
              "          google.colab.kernel.accessAllowed ? 'block' : 'none';\n",
              "\n",
              "        async function convertToInteractive(key) {\n",
              "          const element = document.querySelector('#df-09dc5298-6e60-4542-bc44-fede99b4e957');\n",
              "          const dataTable =\n",
              "            await google.colab.kernel.invokeFunction('convertToInteractive',\n",
              "                                                     [key], {});\n",
              "          if (!dataTable) return;\n",
              "\n",
              "          const docLinkHtml = 'Like what you see? Visit the ' +\n",
              "            '<a target=\"_blank\" href=https://colab.research.google.com/notebooks/data_table.ipynb>data table notebook</a>'\n",
              "            + ' to learn more about interactive tables.';\n",
              "          element.innerHTML = '';\n",
              "          dataTable['output_type'] = 'display_data';\n",
              "          await google.colab.output.renderOutput(dataTable, element);\n",
              "          const docLink = document.createElement('div');\n",
              "          docLink.innerHTML = docLinkHtml;\n",
              "          element.appendChild(docLink);\n",
              "        }\n",
              "      </script>\n",
              "    </div>\n",
              "  </div>\n",
              "  "
            ]
          },
          "metadata": {},
          "execution_count": 30
        }
      ]
    },
    {
      "cell_type": "markdown",
      "source": [
        "**y** is our **target** which is the `actual_productivity` while **X** is the **predictors** which are all other columns except `actual_productivity` and `targeted_productivity`. Because `targeted_productivity` is not a predictor since the numbers were already set by management.\n",
        "\n",
        "#### One-Hot Encoding"
      ],
      "metadata": {
        "id": "e6e3eIMfbvop"
      }
    },
    {
      "cell_type": "code",
      "source": [
        "# Get dummies\n",
        "X = pd.get_dummies(X, prefix_sep='_')\n",
        "X"
      ],
      "metadata": {
        "colab": {
          "base_uri": "https://localhost:8080/",
          "height": 487
        },
        "id": "POfkhoqp96qc",
        "outputId": "4fe692cd-7bf1-41b5-98ba-14095c600cc2"
      },
      "execution_count": 31,
      "outputs": [
        {
          "output_type": "execute_result",
          "data": {
            "text/plain": [
              "           smv       wip  over_time  incentive  idle_time  idle_men  \\\n",
              "0     1.014552  0.277930   0.750589   0.373414  -0.057473 -0.113005   \n",
              "1    -1.016778 -0.453931  -1.077682  -0.238643  -0.057473 -0.113005   \n",
              "2    -0.333878  0.185457  -0.271092   0.073631  -0.057473 -0.113005   \n",
              "3    -0.333878  0.185457  -0.271092   0.073631  -0.057473 -0.113005   \n",
              "4     0.990783  0.318882  -0.790895   0.073631  -0.057473 -0.113005   \n",
              "...        ...       ...        ...        ...        ...       ...   \n",
              "1192 -1.111853 -0.453931  -1.077682  -0.238643  -0.057473 -0.113005   \n",
              "1193 -1.020434 -0.453931  -1.077682  -0.238643  -0.057473 -0.113005   \n",
              "1194 -1.020434 -0.453931  -1.077682  -0.238643  -0.057473 -0.113005   \n",
              "1195 -1.111853 -0.453931  -0.826743  -0.238643  -0.057473 -0.113005   \n",
              "1196 -1.111853 -0.453931  -1.149379  -0.238643  -0.057473 -0.113005   \n",
              "\n",
              "      no_of_style_change  no_of_workers  quarter_Quarter1  quarter_Quarter2  \\\n",
              "0              -0.351617       1.099229                 1                 0   \n",
              "1              -0.351617      -1.199268                 1                 0   \n",
              "2              -0.351617      -0.185225                 1                 0   \n",
              "3              -0.351617      -0.185225                 1                 0   \n",
              "4              -0.351617       0.964023                 1                 0   \n",
              "...                  ...            ...               ...               ...   \n",
              "1192           -0.351617      -1.199268                 0                 1   \n",
              "1193           -0.351617      -1.199268                 0                 1   \n",
              "1194           -0.351617      -1.199268                 0                 1   \n",
              "1195           -0.351617      -0.883788                 0                 1   \n",
              "1196           -0.351617      -1.289405                 0                 1   \n",
              "\n",
              "      ...  team_11  team_12  team_2  team_3  team_4  team_5  team_6  team_7  \\\n",
              "0     ...        0        0       0       0       0       0       0       0   \n",
              "1     ...        0        0       0       0       0       0       0       0   \n",
              "2     ...        1        0       0       0       0       0       0       0   \n",
              "3     ...        0        1       0       0       0       0       0       0   \n",
              "4     ...        0        0       0       0       0       0       1       0   \n",
              "...   ...      ...      ...     ...     ...     ...     ...     ...     ...   \n",
              "1192  ...        0        0       0       0       0       0       0       0   \n",
              "1193  ...        0        0       0       0       0       0       0       0   \n",
              "1194  ...        0        0       0       0       0       0       0       1   \n",
              "1195  ...        0        0       0       0       0       0       0       0   \n",
              "1196  ...        0        0       0       0       0       0       1       0   \n",
              "\n",
              "      team_8  team_9  \n",
              "0          1       0  \n",
              "1          0       0  \n",
              "2          0       0  \n",
              "3          0       0  \n",
              "4          0       0  \n",
              "...      ...     ...  \n",
              "1192       0       0  \n",
              "1193       1       0  \n",
              "1194       0       0  \n",
              "1195       0       1  \n",
              "1196       0       0  \n",
              "\n",
              "[1197 rows x 33 columns]"
            ],
            "text/html": [
              "\n",
              "  <div id=\"df-24cb7c01-3d5e-4688-8075-faef0248784a\">\n",
              "    <div class=\"colab-df-container\">\n",
              "      <div>\n",
              "<style scoped>\n",
              "    .dataframe tbody tr th:only-of-type {\n",
              "        vertical-align: middle;\n",
              "    }\n",
              "\n",
              "    .dataframe tbody tr th {\n",
              "        vertical-align: top;\n",
              "    }\n",
              "\n",
              "    .dataframe thead th {\n",
              "        text-align: right;\n",
              "    }\n",
              "</style>\n",
              "<table border=\"1\" class=\"dataframe\">\n",
              "  <thead>\n",
              "    <tr style=\"text-align: right;\">\n",
              "      <th></th>\n",
              "      <th>smv</th>\n",
              "      <th>wip</th>\n",
              "      <th>over_time</th>\n",
              "      <th>incentive</th>\n",
              "      <th>idle_time</th>\n",
              "      <th>idle_men</th>\n",
              "      <th>no_of_style_change</th>\n",
              "      <th>no_of_workers</th>\n",
              "      <th>quarter_Quarter1</th>\n",
              "      <th>quarter_Quarter2</th>\n",
              "      <th>...</th>\n",
              "      <th>team_11</th>\n",
              "      <th>team_12</th>\n",
              "      <th>team_2</th>\n",
              "      <th>team_3</th>\n",
              "      <th>team_4</th>\n",
              "      <th>team_5</th>\n",
              "      <th>team_6</th>\n",
              "      <th>team_7</th>\n",
              "      <th>team_8</th>\n",
              "      <th>team_9</th>\n",
              "    </tr>\n",
              "  </thead>\n",
              "  <tbody>\n",
              "    <tr>\n",
              "      <th>0</th>\n",
              "      <td>1.014552</td>\n",
              "      <td>0.277930</td>\n",
              "      <td>0.750589</td>\n",
              "      <td>0.373414</td>\n",
              "      <td>-0.057473</td>\n",
              "      <td>-0.113005</td>\n",
              "      <td>-0.351617</td>\n",
              "      <td>1.099229</td>\n",
              "      <td>1</td>\n",
              "      <td>0</td>\n",
              "      <td>...</td>\n",
              "      <td>0</td>\n",
              "      <td>0</td>\n",
              "      <td>0</td>\n",
              "      <td>0</td>\n",
              "      <td>0</td>\n",
              "      <td>0</td>\n",
              "      <td>0</td>\n",
              "      <td>0</td>\n",
              "      <td>1</td>\n",
              "      <td>0</td>\n",
              "    </tr>\n",
              "    <tr>\n",
              "      <th>1</th>\n",
              "      <td>-1.016778</td>\n",
              "      <td>-0.453931</td>\n",
              "      <td>-1.077682</td>\n",
              "      <td>-0.238643</td>\n",
              "      <td>-0.057473</td>\n",
              "      <td>-0.113005</td>\n",
              "      <td>-0.351617</td>\n",
              "      <td>-1.199268</td>\n",
              "      <td>1</td>\n",
              "      <td>0</td>\n",
              "      <td>...</td>\n",
              "      <td>0</td>\n",
              "      <td>0</td>\n",
              "      <td>0</td>\n",
              "      <td>0</td>\n",
              "      <td>0</td>\n",
              "      <td>0</td>\n",
              "      <td>0</td>\n",
              "      <td>0</td>\n",
              "      <td>0</td>\n",
              "      <td>0</td>\n",
              "    </tr>\n",
              "    <tr>\n",
              "      <th>2</th>\n",
              "      <td>-0.333878</td>\n",
              "      <td>0.185457</td>\n",
              "      <td>-0.271092</td>\n",
              "      <td>0.073631</td>\n",
              "      <td>-0.057473</td>\n",
              "      <td>-0.113005</td>\n",
              "      <td>-0.351617</td>\n",
              "      <td>-0.185225</td>\n",
              "      <td>1</td>\n",
              "      <td>0</td>\n",
              "      <td>...</td>\n",
              "      <td>1</td>\n",
              "      <td>0</td>\n",
              "      <td>0</td>\n",
              "      <td>0</td>\n",
              "      <td>0</td>\n",
              "      <td>0</td>\n",
              "      <td>0</td>\n",
              "      <td>0</td>\n",
              "      <td>0</td>\n",
              "      <td>0</td>\n",
              "    </tr>\n",
              "    <tr>\n",
              "      <th>3</th>\n",
              "      <td>-0.333878</td>\n",
              "      <td>0.185457</td>\n",
              "      <td>-0.271092</td>\n",
              "      <td>0.073631</td>\n",
              "      <td>-0.057473</td>\n",
              "      <td>-0.113005</td>\n",
              "      <td>-0.351617</td>\n",
              "      <td>-0.185225</td>\n",
              "      <td>1</td>\n",
              "      <td>0</td>\n",
              "      <td>...</td>\n",
              "      <td>0</td>\n",
              "      <td>1</td>\n",
              "      <td>0</td>\n",
              "      <td>0</td>\n",
              "      <td>0</td>\n",
              "      <td>0</td>\n",
              "      <td>0</td>\n",
              "      <td>0</td>\n",
              "      <td>0</td>\n",
              "      <td>0</td>\n",
              "    </tr>\n",
              "    <tr>\n",
              "      <th>4</th>\n",
              "      <td>0.990783</td>\n",
              "      <td>0.318882</td>\n",
              "      <td>-0.790895</td>\n",
              "      <td>0.073631</td>\n",
              "      <td>-0.057473</td>\n",
              "      <td>-0.113005</td>\n",
              "      <td>-0.351617</td>\n",
              "      <td>0.964023</td>\n",
              "      <td>1</td>\n",
              "      <td>0</td>\n",
              "      <td>...</td>\n",
              "      <td>0</td>\n",
              "      <td>0</td>\n",
              "      <td>0</td>\n",
              "      <td>0</td>\n",
              "      <td>0</td>\n",
              "      <td>0</td>\n",
              "      <td>1</td>\n",
              "      <td>0</td>\n",
              "      <td>0</td>\n",
              "      <td>0</td>\n",
              "    </tr>\n",
              "    <tr>\n",
              "      <th>...</th>\n",
              "      <td>...</td>\n",
              "      <td>...</td>\n",
              "      <td>...</td>\n",
              "      <td>...</td>\n",
              "      <td>...</td>\n",
              "      <td>...</td>\n",
              "      <td>...</td>\n",
              "      <td>...</td>\n",
              "      <td>...</td>\n",
              "      <td>...</td>\n",
              "      <td>...</td>\n",
              "      <td>...</td>\n",
              "      <td>...</td>\n",
              "      <td>...</td>\n",
              "      <td>...</td>\n",
              "      <td>...</td>\n",
              "      <td>...</td>\n",
              "      <td>...</td>\n",
              "      <td>...</td>\n",
              "      <td>...</td>\n",
              "      <td>...</td>\n",
              "    </tr>\n",
              "    <tr>\n",
              "      <th>1192</th>\n",
              "      <td>-1.111853</td>\n",
              "      <td>-0.453931</td>\n",
              "      <td>-1.077682</td>\n",
              "      <td>-0.238643</td>\n",
              "      <td>-0.057473</td>\n",
              "      <td>-0.113005</td>\n",
              "      <td>-0.351617</td>\n",
              "      <td>-1.199268</td>\n",
              "      <td>0</td>\n",
              "      <td>1</td>\n",
              "      <td>...</td>\n",
              "      <td>0</td>\n",
              "      <td>0</td>\n",
              "      <td>0</td>\n",
              "      <td>0</td>\n",
              "      <td>0</td>\n",
              "      <td>0</td>\n",
              "      <td>0</td>\n",
              "      <td>0</td>\n",
              "      <td>0</td>\n",
              "      <td>0</td>\n",
              "    </tr>\n",
              "    <tr>\n",
              "      <th>1193</th>\n",
              "      <td>-1.020434</td>\n",
              "      <td>-0.453931</td>\n",
              "      <td>-1.077682</td>\n",
              "      <td>-0.238643</td>\n",
              "      <td>-0.057473</td>\n",
              "      <td>-0.113005</td>\n",
              "      <td>-0.351617</td>\n",
              "      <td>-1.199268</td>\n",
              "      <td>0</td>\n",
              "      <td>1</td>\n",
              "      <td>...</td>\n",
              "      <td>0</td>\n",
              "      <td>0</td>\n",
              "      <td>0</td>\n",
              "      <td>0</td>\n",
              "      <td>0</td>\n",
              "      <td>0</td>\n",
              "      <td>0</td>\n",
              "      <td>0</td>\n",
              "      <td>1</td>\n",
              "      <td>0</td>\n",
              "    </tr>\n",
              "    <tr>\n",
              "      <th>1194</th>\n",
              "      <td>-1.020434</td>\n",
              "      <td>-0.453931</td>\n",
              "      <td>-1.077682</td>\n",
              "      <td>-0.238643</td>\n",
              "      <td>-0.057473</td>\n",
              "      <td>-0.113005</td>\n",
              "      <td>-0.351617</td>\n",
              "      <td>-1.199268</td>\n",
              "      <td>0</td>\n",
              "      <td>1</td>\n",
              "      <td>...</td>\n",
              "      <td>0</td>\n",
              "      <td>0</td>\n",
              "      <td>0</td>\n",
              "      <td>0</td>\n",
              "      <td>0</td>\n",
              "      <td>0</td>\n",
              "      <td>0</td>\n",
              "      <td>1</td>\n",
              "      <td>0</td>\n",
              "      <td>0</td>\n",
              "    </tr>\n",
              "    <tr>\n",
              "      <th>1195</th>\n",
              "      <td>-1.111853</td>\n",
              "      <td>-0.453931</td>\n",
              "      <td>-0.826743</td>\n",
              "      <td>-0.238643</td>\n",
              "      <td>-0.057473</td>\n",
              "      <td>-0.113005</td>\n",
              "      <td>-0.351617</td>\n",
              "      <td>-0.883788</td>\n",
              "      <td>0</td>\n",
              "      <td>1</td>\n",
              "      <td>...</td>\n",
              "      <td>0</td>\n",
              "      <td>0</td>\n",
              "      <td>0</td>\n",
              "      <td>0</td>\n",
              "      <td>0</td>\n",
              "      <td>0</td>\n",
              "      <td>0</td>\n",
              "      <td>0</td>\n",
              "      <td>0</td>\n",
              "      <td>1</td>\n",
              "    </tr>\n",
              "    <tr>\n",
              "      <th>1196</th>\n",
              "      <td>-1.111853</td>\n",
              "      <td>-0.453931</td>\n",
              "      <td>-1.149379</td>\n",
              "      <td>-0.238643</td>\n",
              "      <td>-0.057473</td>\n",
              "      <td>-0.113005</td>\n",
              "      <td>-0.351617</td>\n",
              "      <td>-1.289405</td>\n",
              "      <td>0</td>\n",
              "      <td>1</td>\n",
              "      <td>...</td>\n",
              "      <td>0</td>\n",
              "      <td>0</td>\n",
              "      <td>0</td>\n",
              "      <td>0</td>\n",
              "      <td>0</td>\n",
              "      <td>0</td>\n",
              "      <td>1</td>\n",
              "      <td>0</td>\n",
              "      <td>0</td>\n",
              "      <td>0</td>\n",
              "    </tr>\n",
              "  </tbody>\n",
              "</table>\n",
              "<p>1197 rows × 33 columns</p>\n",
              "</div>\n",
              "      <button class=\"colab-df-convert\" onclick=\"convertToInteractive('df-24cb7c01-3d5e-4688-8075-faef0248784a')\"\n",
              "              title=\"Convert this dataframe to an interactive table.\"\n",
              "              style=\"display:none;\">\n",
              "        \n",
              "  <svg xmlns=\"http://www.w3.org/2000/svg\" height=\"24px\"viewBox=\"0 0 24 24\"\n",
              "       width=\"24px\">\n",
              "    <path d=\"M0 0h24v24H0V0z\" fill=\"none\"/>\n",
              "    <path d=\"M18.56 5.44l.94 2.06.94-2.06 2.06-.94-2.06-.94-.94-2.06-.94 2.06-2.06.94zm-11 1L8.5 8.5l.94-2.06 2.06-.94-2.06-.94L8.5 2.5l-.94 2.06-2.06.94zm10 10l.94 2.06.94-2.06 2.06-.94-2.06-.94-.94-2.06-.94 2.06-2.06.94z\"/><path d=\"M17.41 7.96l-1.37-1.37c-.4-.4-.92-.59-1.43-.59-.52 0-1.04.2-1.43.59L10.3 9.45l-7.72 7.72c-.78.78-.78 2.05 0 2.83L4 21.41c.39.39.9.59 1.41.59.51 0 1.02-.2 1.41-.59l7.78-7.78 2.81-2.81c.8-.78.8-2.07 0-2.86zM5.41 20L4 18.59l7.72-7.72 1.47 1.35L5.41 20z\"/>\n",
              "  </svg>\n",
              "      </button>\n",
              "      \n",
              "  <style>\n",
              "    .colab-df-container {\n",
              "      display:flex;\n",
              "      flex-wrap:wrap;\n",
              "      gap: 12px;\n",
              "    }\n",
              "\n",
              "    .colab-df-convert {\n",
              "      background-color: #E8F0FE;\n",
              "      border: none;\n",
              "      border-radius: 50%;\n",
              "      cursor: pointer;\n",
              "      display: none;\n",
              "      fill: #1967D2;\n",
              "      height: 32px;\n",
              "      padding: 0 0 0 0;\n",
              "      width: 32px;\n",
              "    }\n",
              "\n",
              "    .colab-df-convert:hover {\n",
              "      background-color: #E2EBFA;\n",
              "      box-shadow: 0px 1px 2px rgba(60, 64, 67, 0.3), 0px 1px 3px 1px rgba(60, 64, 67, 0.15);\n",
              "      fill: #174EA6;\n",
              "    }\n",
              "\n",
              "    [theme=dark] .colab-df-convert {\n",
              "      background-color: #3B4455;\n",
              "      fill: #D2E3FC;\n",
              "    }\n",
              "\n",
              "    [theme=dark] .colab-df-convert:hover {\n",
              "      background-color: #434B5C;\n",
              "      box-shadow: 0px 1px 3px 1px rgba(0, 0, 0, 0.15);\n",
              "      filter: drop-shadow(0px 1px 2px rgba(0, 0, 0, 0.3));\n",
              "      fill: #FFFFFF;\n",
              "    }\n",
              "  </style>\n",
              "\n",
              "      <script>\n",
              "        const buttonEl =\n",
              "          document.querySelector('#df-24cb7c01-3d5e-4688-8075-faef0248784a button.colab-df-convert');\n",
              "        buttonEl.style.display =\n",
              "          google.colab.kernel.accessAllowed ? 'block' : 'none';\n",
              "\n",
              "        async function convertToInteractive(key) {\n",
              "          const element = document.querySelector('#df-24cb7c01-3d5e-4688-8075-faef0248784a');\n",
              "          const dataTable =\n",
              "            await google.colab.kernel.invokeFunction('convertToInteractive',\n",
              "                                                     [key], {});\n",
              "          if (!dataTable) return;\n",
              "\n",
              "          const docLinkHtml = 'Like what you see? Visit the ' +\n",
              "            '<a target=\"_blank\" href=https://colab.research.google.com/notebooks/data_table.ipynb>data table notebook</a>'\n",
              "            + ' to learn more about interactive tables.';\n",
              "          element.innerHTML = '';\n",
              "          dataTable['output_type'] = 'display_data';\n",
              "          await google.colab.output.renderOutput(dataTable, element);\n",
              "          const docLink = document.createElement('div');\n",
              "          docLink.innerHTML = docLinkHtml;\n",
              "          element.appendChild(docLink);\n",
              "        }\n",
              "      </script>\n",
              "    </div>\n",
              "  </div>\n",
              "  "
            ]
          },
          "metadata": {},
          "execution_count": 31
        }
      ]
    },
    {
      "cell_type": "markdown",
      "source": [
        "#### Split Train and Test Data\n",
        "\n",
        "Now, let's split the **train** and **test** data with ratio of **80%** : **20%**."
      ],
      "metadata": {
        "id": "G2lCEMKzePqn"
      }
    },
    {
      "cell_type": "code",
      "source": [
        "from sklearn.model_selection import train_test_split\n",
        "X_train, X_test, y_train, y_test = train_test_split(X, y, test_size = 0.20, random_state = 42)\n",
        "# test set must not be touched"
      ],
      "metadata": {
        "id": "xEwTga0kebJO"
      },
      "execution_count": 32,
      "outputs": []
    },
    {
      "cell_type": "code",
      "source": [
        "print('X shape\\t\\t:', X.shape)\n",
        "print('y shape\\t\\t:', y.shape)\n",
        "print()\n",
        "print('X_train shape:', X_train.shape)\n",
        "print('y_train shape:', y_train.shape)\n",
        "print()\n",
        "print('X_test shape\\t:', X_test.shape)\n",
        "print('y_test shape\\t:', y_test.shape)"
      ],
      "metadata": {
        "colab": {
          "base_uri": "https://localhost:8080/"
        },
        "id": "0SjUUWSuNURC",
        "outputId": "37acdfa8-dbb3-4482-c483-a4b97b24ea36"
      },
      "execution_count": 33,
      "outputs": [
        {
          "output_type": "stream",
          "name": "stdout",
          "text": [
            "X shape\t\t: (1197, 33)\n",
            "y shape\t\t: (1197,)\n",
            "\n",
            "X_train shape: (957, 33)\n",
            "y_train shape: (957,)\n",
            "\n",
            "X_test shape\t: (240, 33)\n",
            "y_test shape\t: (240,)\n"
          ]
        }
      ]
    },
    {
      "cell_type": "code",
      "source": [
        "# Variable for storing result and plotting the Result\n",
        "R2_square = []\n",
        "mae_score = []\n",
        "mse_score = []\n",
        "names = []"
      ],
      "metadata": {
        "id": "9E5HxjLpXZPr"
      },
      "execution_count": 34,
      "outputs": []
    },
    {
      "cell_type": "markdown",
      "source": [
        "### Model Development\n",
        "\n",
        "After finishin the feature engineering, now it's time to develop some Regression Models.\n",
        "\n",
        "#### Linear Regression"
      ],
      "metadata": {
        "id": "j2WE1QgPh1li"
      }
    },
    {
      "cell_type": "code",
      "source": [
        "from sklearn.linear_model import LinearRegression\n",
        "from sklearn import metrics\n",
        "from sklearn import linear_model\n",
        "\n",
        "linear = LinearRegression()\n",
        "linear.fit(X_train, y_train)\n",
        "y_pred = linear.predict(X_test)\n",
        "mae = metrics.mean_absolute_error(y_test, y_pred)\n",
        "mse = metrics.mean_squared_error(y_test, y_pred)\n",
        "\n",
        "# Plotting the Result\n",
        "names.append(\"Linear Regression\")\n",
        "R2_square.append(metrics.r2_score(y_test, y_pred))\n",
        "mse_score.append(mse)\n",
        "mae_score.append(mae)\n",
        "\n",
        "# Printing the metrics\n",
        "print('Linear Regression:')\n",
        "print('Suppport Vector Regression Accuracy: ', linear.score(X_test,y_test))\n",
        "print('R2 square:', metrics.r2_score(y_test, y_pred))\n",
        "print('MAE: ', mae)\n",
        "print('MSE: ', mse)"
      ],
      "metadata": {
        "colab": {
          "base_uri": "https://localhost:8080/"
        },
        "id": "YZrJSGrgoULR",
        "outputId": "a25e1f48-dc5a-486c-895d-79fe572ae31e"
      },
      "execution_count": 35,
      "outputs": [
        {
          "output_type": "stream",
          "name": "stdout",
          "text": [
            "Linear Regression:\n",
            "Suppport Vector Regression Accuracy:  -0.02237855969119318\n",
            "R2 square: -0.02237855969119318\n",
            "MAE:  0.7089097149989139\n",
            "MSE:  0.8923781436105295\n"
          ]
        }
      ]
    },
    {
      "cell_type": "markdown",
      "source": [
        "#### Ridge Regression"
      ],
      "metadata": {
        "id": "axrzmcmRjkow"
      }
    },
    {
      "cell_type": "code",
      "source": [
        "from sklearn.linear_model import Ridge\n",
        "\n",
        "ridge = Ridge()\n",
        "ridge.fit(X_train, y_train)\n",
        "\n",
        "#Prediction using test set \n",
        "y_pred = ridge.predict(X_test)\n",
        "mae=metrics.mean_absolute_error(y_test, y_pred)\n",
        "mse=metrics.mean_squared_error(y_test, y_pred)\n",
        "\n",
        "# Plotting the Result\n",
        "names.append(\"Ridge Regression\")\n",
        "R2_square.append(metrics.r2_score(y_test, y_pred))\n",
        "mse_score.append(mse)\n",
        "mae_score.append(mae)\n",
        "\n",
        "# Printing the metrics\n",
        "print('Suppport Vector Regression Accuracy: ', ridge.score(X_test,y_test))\n",
        "print('R2 square:', metrics.r2_score(y_test, y_pred))\n",
        "print('MAE: ', mae)\n",
        "print('MSE: ', mse)"
      ],
      "metadata": {
        "colab": {
          "base_uri": "https://localhost:8080/"
        },
        "id": "J48oWpq4pfWW",
        "outputId": "bb151cdf-1d8f-4db8-bbc4-996cb9109315"
      },
      "execution_count": 36,
      "outputs": [
        {
          "output_type": "stream",
          "name": "stdout",
          "text": [
            "Suppport Vector Regression Accuracy:  -0.018360401000118376\n",
            "R2 square: -0.018360401000118376\n",
            "MAE:  0.7077954875538875\n",
            "MSE:  0.8888709133781616\n"
          ]
        }
      ]
    },
    {
      "cell_type": "markdown",
      "source": [
        "#### Lasso Regression"
      ],
      "metadata": {
        "id": "Lt2ESKlwjqxy"
      }
    },
    {
      "cell_type": "code",
      "source": [
        "from sklearn.linear_model import Lasso\n",
        "\n",
        "lasso = Lasso()\n",
        "lasso.fit(X_train, y_train)\n",
        "\n",
        "#Prediction using test set \n",
        "y_pred = lasso.predict(X_test)\n",
        "mae = metrics.mean_absolute_error(y_test, y_pred)\n",
        "mse = metrics.mean_squared_error(y_test, y_pred)\n",
        "\n",
        "# Plotting the Result\n",
        "names.append(\"Lasso Regression\")\n",
        "R2_square.append(metrics.r2_score(y_test, y_pred))\n",
        "mse_score.append(mse)\n",
        "mae_score.append(mae)\n",
        "\n",
        "# Printing the metrics\n",
        "print('Suppport Vector Regression Accuracy: ', lasso.score(X_test,y_test))\n",
        "print('R2 square:', metrics.r2_score(y_test, y_pred))\n",
        "print('MAE: ', mae)\n",
        "print('MSE: ', mse)"
      ],
      "metadata": {
        "colab": {
          "base_uri": "https://localhost:8080/"
        },
        "id": "AGGLmr7LqCw8",
        "outputId": "122a366b-908e-49a9-ed98-2a54d4679ce5"
      },
      "execution_count": 37,
      "outputs": [
        {
          "output_type": "stream",
          "name": "stdout",
          "text": [
            "Suppport Vector Regression Accuracy:  -0.006424658194793986\n",
            "R2 square: -0.006424658194793986\n",
            "MAE:  0.7304165920201356\n",
            "MSE:  0.8784528584353376\n"
          ]
        }
      ]
    },
    {
      "cell_type": "markdown",
      "source": [
        "#### Support Vector Regression (SVR)"
      ],
      "metadata": {
        "id": "JTcMnf2mj1Bi"
      }
    },
    {
      "cell_type": "code",
      "source": [
        "from sklearn.svm import SVR\n",
        "\n",
        "svr = SVR(kernel= 'rbf')\n",
        "svr.fit(X_train, y_train)\n",
        "\n",
        "#Prediction using test set \n",
        "y_pred = svr.predict(X_test)\n",
        "mae = metrics.mean_absolute_error(y_test, y_pred)\n",
        "mse = metrics.mean_squared_error(y_test, y_pred)\n",
        "\n",
        "# Plotting the Result\n",
        "names.append(\"Support Vector Regression\")\n",
        "R2_square.append(metrics.r2_score(y_test, y_pred))\n",
        "mse_score.append(mse)\n",
        "mae_score.append(mae)\n",
        "\n",
        "# Printing the metrics\n",
        "print('Suppport Vector Regression Accuracy: ', svr.score(X_test,y_test))\n",
        "print('R2 square:', metrics.r2_score(y_test, y_pred))\n",
        "print('MAE: ', mae)\n",
        "print('MSE: ', mse)"
      ],
      "metadata": {
        "colab": {
          "base_uri": "https://localhost:8080/"
        },
        "id": "xGQ-puqiqkKk",
        "outputId": "ad8462ad-0840-4dc4-eccd-7f824e86c720"
      },
      "execution_count": 38,
      "outputs": [
        {
          "output_type": "stream",
          "name": "stdout",
          "text": [
            "Suppport Vector Regression Accuracy:  0.32861797666587467\n",
            "R2 square: 0.32861797666587467\n",
            "MAE:  0.5205958363463931\n",
            "MSE:  0.5860125273141024\n"
          ]
        }
      ]
    },
    {
      "cell_type": "markdown",
      "source": [
        "#### Decision Tree"
      ],
      "metadata": {
        "id": "unwEPioJj_zg"
      }
    },
    {
      "cell_type": "code",
      "source": [
        "from sklearn.tree import DecisionTreeRegressor\n",
        "\n",
        "dt_reg = DecisionTreeRegressor(random_state = 0)\n",
        "dt_reg.fit(X_train, y_train)\n",
        "\n",
        "#Prediction using test set \n",
        "y_pred = dt_reg.predict(X_test)\n",
        "mae = metrics.mean_absolute_error(y_test, y_pred)\n",
        "mse = metrics.mean_squared_error(y_test, y_pred)\n",
        "\n",
        "# Plotting the Result\n",
        "names.append(\"Decision Tree\")\n",
        "R2_square.append(metrics.r2_score(y_test, y_pred))\n",
        "mse_score.append(mse)\n",
        "mae_score.append(mae)\n",
        "\n",
        "# Printing the metrics\n",
        "print('Suppport Vector Regression Accuracy: ', dt_reg.score(X_test,y_test))\n",
        "print('R2 square:', metrics.r2_score(y_test, y_pred))\n",
        "print('MAE: ', mae)\n",
        "print('MSE: ', mse)"
      ],
      "metadata": {
        "colab": {
          "base_uri": "https://localhost:8080/"
        },
        "id": "iJOaakbJq7Mw",
        "outputId": "a5d8d044-feb5-458c-e989-0cdfd5cf0192"
      },
      "execution_count": 39,
      "outputs": [
        {
          "output_type": "stream",
          "name": "stdout",
          "text": [
            "Suppport Vector Regression Accuracy:  -0.13942800671652988\n",
            "R2 square: -0.13942800671652988\n",
            "MAE:  0.6014277348481871\n",
            "MSE:  0.9945441830457253\n"
          ]
        }
      ]
    },
    {
      "cell_type": "markdown",
      "source": [
        "#### Random Forest"
      ],
      "metadata": {
        "id": "IEW2v2tekHgv"
      }
    },
    {
      "cell_type": "code",
      "source": [
        "from sklearn.ensemble import RandomForestRegressor\n",
        "from sklearn.model_selection import GridSearchCV\n",
        "\n",
        "rf_reg = RandomForestRegressor(n_estimators = 300 ,  random_state = 0)\n",
        "rf_reg.fit(X_train, y_train)\n",
        "\n",
        "#Prediction using test set \n",
        "y_pred = rf_reg.predict(X_test)\n",
        "mae = metrics.mean_absolute_error(y_test, y_pred)\n",
        "mse = metrics.mean_squared_error(y_test, y_pred)\n",
        "\n",
        "# Plotting the Result\n",
        "names.append(\"Random Forest\")\n",
        "R2_square.append(metrics.r2_score(y_test, y_pred))\n",
        "mse_score.append(mse)\n",
        "mae_score.append(mae)\n",
        "\n",
        "# Printing the metrics\n",
        "print('Suppport Vector Regression Accuracy: ', rf_reg.score(X_test,y_test))\n",
        "print('R2 square:', metrics.r2_score(y_test, y_pred))\n",
        "print('MAE: ', mae)\n",
        "print('MSE: ', mse)"
      ],
      "metadata": {
        "colab": {
          "base_uri": "https://localhost:8080/"
        },
        "id": "wxSuFESZrNhU",
        "outputId": "d220f99f-7e4b-462d-b872-ec1f0e4abb8a"
      },
      "execution_count": 40,
      "outputs": [
        {
          "output_type": "stream",
          "name": "stdout",
          "text": [
            "Suppport Vector Regression Accuracy:  0.43911451292158077\n",
            "R2 square: 0.43911451292158077\n",
            "MAE:  0.457891744995732\n",
            "MSE:  0.4895661641107857\n"
          ]
        }
      ]
    },
    {
      "cell_type": "markdown",
      "source": [
        "##### Hyperparameter Tuning\n",
        "\n",
        "To optimize the R2 number in Random Forest, we can do Hyperparameter Tuning."
      ],
      "metadata": {
        "id": "mBgEflwgpnFu"
      }
    },
    {
      "cell_type": "code",
      "source": [
        "rfc = RandomForestRegressor()\n",
        "parameters = {\n",
        "    \"n_estimators\":[5,10,50,100,250,300,350,400,450,500],\n",
        "    \"max_depth\":[2,4,8,16,32,64,None]\n",
        "    \n",
        "}\n",
        "\n",
        "cv = GridSearchCV(rfc, parameters, cv = 5)\n",
        "cv.fit(X_train, y_train.values.ravel())"
      ],
      "metadata": {
        "colab": {
          "base_uri": "https://localhost:8080/"
        },
        "id": "0Jn8yLp8rlmu",
        "outputId": "84d1ebca-9a8a-4cfc-abaa-d708e56873aa"
      },
      "execution_count": 41,
      "outputs": [
        {
          "output_type": "execute_result",
          "data": {
            "text/plain": [
              "GridSearchCV(cv=5, estimator=RandomForestRegressor(),\n",
              "             param_grid={'max_depth': [2, 4, 8, 16, 32, 64, None],\n",
              "                         'n_estimators': [5, 10, 50, 100, 250, 300, 350, 400,\n",
              "                                          450, 500]})"
            ]
          },
          "metadata": {},
          "execution_count": 41
        }
      ]
    },
    {
      "cell_type": "code",
      "source": [
        "def display(results):\n",
        "    print(f'Best parameters are: {results.best_params_}')\n",
        "    print(\"\\n\")\n",
        "    mean_score = results.cv_results_['mean_test_score']\n",
        "    std_score = results.cv_results_['std_test_score']\n",
        "    params = results.cv_results_['params']\n",
        "\n",
        "display(cv)"
      ],
      "metadata": {
        "colab": {
          "base_uri": "https://localhost:8080/"
        },
        "id": "YKqf97GhsCDq",
        "outputId": "14b9fac6-ac44-4754-dfcc-c3298587aa07"
      },
      "execution_count": 42,
      "outputs": [
        {
          "output_type": "stream",
          "name": "stdout",
          "text": [
            "Best parameters are: {'max_depth': 8, 'n_estimators': 300}\n",
            "\n",
            "\n"
          ]
        }
      ]
    },
    {
      "cell_type": "code",
      "source": [
        "rf_reg2 = RandomForestRegressor(n_estimators = 300 ,  max_depth = 8, random_state = 0)\n",
        "rf_reg2.fit(X_train,y_train)\n",
        "\n",
        "y_pred = rf_reg2.predict(X_test)\n",
        "mae = metrics.mean_absolute_error(y_test, y_pred)\n",
        "mse = metrics.mean_squared_error(y_test, y_pred)\n",
        "\n",
        "# Plotting the Result\n",
        "names.append(\"Random Forest Hyperparamater\")\n",
        "R2_square.append(metrics.r2_score(y_test, y_pred))\n",
        "mse_score.append(mse)\n",
        "mae_score.append(mae)\n",
        "\n",
        "# Printing the metrics\n",
        "print('Suppport Vector Regression Accuracy: ', rf_reg2.score(X_test,y_test))\n",
        "print('R2 square:', metrics.r2_score(y_test, y_pred))\n",
        "print('MAE: ', mae)\n",
        "print('MSE: ', mse)"
      ],
      "metadata": {
        "colab": {
          "base_uri": "https://localhost:8080/"
        },
        "id": "j8w1cZ6psMdS",
        "outputId": "a04d0e95-1785-4a3f-dd14-ad3937dd6f74"
      },
      "execution_count": 43,
      "outputs": [
        {
          "output_type": "stream",
          "name": "stdout",
          "text": [
            "Suppport Vector Regression Accuracy:  0.4589219386635477\n",
            "R2 square: 0.4589219386635477\n",
            "MAE:  0.45952174204521684\n",
            "MSE:  0.4722773490766962\n"
          ]
        }
      ]
    },
    {
      "cell_type": "markdown",
      "source": [
        "After doing a hyperparameter tuning, the result given is not showing a significant difference, from **44%** to **46%**."
      ],
      "metadata": {
        "id": "Fc-gsz8GEao0"
      }
    },
    {
      "cell_type": "markdown",
      "source": [
        "#### Bagging Regressor"
      ],
      "metadata": {
        "id": "XdqgZQj-kPjW"
      }
    },
    {
      "cell_type": "code",
      "source": [
        "from sklearn.ensemble import BaggingRegressor, GradientBoostingRegressor\n",
        "\n",
        "br_reg = BaggingRegressor(n_estimators = 400, random_state = 0)\n",
        "br_reg.fit(X_train, y_train)\n",
        "\n",
        "#Prediction using test set \n",
        "y_pred = br_reg.predict(X_test)\n",
        "mae = metrics.mean_absolute_error(y_test, y_pred)\n",
        "mse = metrics.mean_squared_error(y_test, y_pred)\n",
        "\n",
        "# Plotting the Result\n",
        "names.append(\"Bagging Regressor\")\n",
        "R2_square.append(metrics.r2_score(y_test, y_pred))\n",
        "mse_score.append(mse)\n",
        "mae_score.append(mae)\n",
        "\n",
        "# Printing the metrics\n",
        "print('Suppport Vector Regression Accuracy: ', br_reg.score(X_test,y_test))\n",
        "print('R2 square:', metrics.r2_score(y_test, y_pred))\n",
        "print('MAE: ', mae)\n",
        "print('MSE: ', mse)"
      ],
      "metadata": {
        "colab": {
          "base_uri": "https://localhost:8080/"
        },
        "id": "Tay_uMIjsp_i",
        "outputId": "9b85678b-97a8-4c4a-b729-3da73d9d297e"
      },
      "execution_count": 44,
      "outputs": [
        {
          "output_type": "stream",
          "name": "stdout",
          "text": [
            "Suppport Vector Regression Accuracy:  0.44460806073336656\n",
            "R2 square: 0.44460806073336656\n",
            "MAE:  0.45591187270375666\n",
            "MSE:  0.48477114767421464\n"
          ]
        }
      ]
    },
    {
      "cell_type": "markdown",
      "source": [
        "#### Gradien Boosting Regressor"
      ],
      "metadata": {
        "id": "hqXmhUx0kecW"
      }
    },
    {
      "cell_type": "code",
      "source": [
        "gbr_reg = GradientBoostingRegressor(n_estimators = 400, learning_rate = 0.1, loss = 'squared_error', random_state = 0)\n",
        "gbr_reg.fit(X_train, y_train)\n",
        "\n",
        "#Prediction using test set \n",
        "y_pred = gbr_reg.predict(X_test)\n",
        "mae = metrics.mean_absolute_error(y_test, y_pred)\n",
        "mse = metrics.mean_squared_error(y_test, y_pred)\n",
        "\n",
        "# Plotting the Result\n",
        "names.append(\"Gradient Boosting\")\n",
        "R2_square.append(metrics.r2_score(y_test, y_pred))\n",
        "mse_score.append(mse)\n",
        "mae_score.append(mae)\n",
        "\n",
        "# Printing the metrics\n",
        "print('Suppport Vector Regression Accuracy: ', gbr_reg.score(X_test,y_test))\n",
        "print('R2 square:', metrics.r2_score(y_test, y_pred))\n",
        "print('MAE: ', mae)\n",
        "print('MSE: ', mse)"
      ],
      "metadata": {
        "colab": {
          "base_uri": "https://localhost:8080/"
        },
        "id": "C1I-40ERsxjq",
        "outputId": "df52f0a9-351a-4a34-b693-17ce7f3a9325"
      },
      "execution_count": 45,
      "outputs": [
        {
          "output_type": "stream",
          "name": "stdout",
          "text": [
            "Suppport Vector Regression Accuracy:  0.364647182989822\n",
            "R2 square: 0.364647182989822\n",
            "MAE:  0.5015378810027578\n",
            "MSE:  0.5545646101503894\n"
          ]
        }
      ]
    },
    {
      "cell_type": "markdown",
      "source": [
        "#### XG Boost Regression"
      ],
      "metadata": {
        "id": "Vjw5psFtkuHD"
      }
    },
    {
      "cell_type": "code",
      "source": [
        "import xgboost\n",
        "\n",
        "xgb_reg = xgboost.XGBRegressor(verbosity = 0)\n",
        "xgb_reg.fit(X_train, y_train)"
      ],
      "metadata": {
        "colab": {
          "base_uri": "https://localhost:8080/"
        },
        "id": "qDtai_BAs8DE",
        "outputId": "9193d638-3246-4056-dadf-c265a68e351d"
      },
      "execution_count": 46,
      "outputs": [
        {
          "output_type": "execute_result",
          "data": {
            "text/plain": [
              "XGBRegressor(verbosity=0)"
            ]
          },
          "metadata": {},
          "execution_count": 46
        }
      ]
    },
    {
      "cell_type": "code",
      "source": [
        "score = xgb_reg.score(X_train, y_train)  \n",
        "print(\"Training score: \", score)"
      ],
      "metadata": {
        "colab": {
          "base_uri": "https://localhost:8080/"
        },
        "id": "-WW0W5RctUmi",
        "outputId": "8dc5fee6-d24b-4a5f-a3d5-e89492d1c091"
      },
      "execution_count": 47,
      "outputs": [
        {
          "output_type": "stream",
          "name": "stdout",
          "text": [
            "Training score:  0.6394428939987488\n"
          ]
        }
      ]
    },
    {
      "cell_type": "code",
      "source": [
        "from sklearn.model_selection import StratifiedKFold, cross_val_score, cross_val_predict\n",
        "\n",
        "scores = cross_val_score(xgb_reg, X_train, y_train, cv = 10)\n",
        "print(\"Mean cross-validation score: %.2f\" % scores.mean())"
      ],
      "metadata": {
        "colab": {
          "base_uri": "https://localhost:8080/"
        },
        "id": "4vlooLLttuAg",
        "outputId": "b000b53c-88ae-47cf-bedf-a5e5a71c1434"
      },
      "execution_count": 48,
      "outputs": [
        {
          "output_type": "stream",
          "name": "stdout",
          "text": [
            "Mean cross-validation score: 0.49\n"
          ]
        }
      ]
    },
    {
      "cell_type": "code",
      "source": [
        "y_pred = xgb_reg.predict(X_test)\n",
        "mae = metrics.mean_absolute_error(y_test, y_pred)\n",
        "mse = metrics.mean_squared_error(y_test, y_pred)\n",
        "\n",
        "# Plotting the Result\n",
        "names.append(\"XG Boost\")\n",
        "R2_square.append(metrics.r2_score(y_test, y_pred))\n",
        "mse_score.append(mse)\n",
        "mae_score.append(mae)\n",
        "\n",
        "# Printing the metrics\n",
        "print('Suppport Vector Regression Accuracy: ', xgb_reg.score(X_test,y_test))\n",
        "print('R2 square:', metrics.r2_score(y_test, y_pred))\n",
        "print('MAE: ', mae)\n",
        "print('MSE: ', mse)"
      ],
      "metadata": {
        "colab": {
          "base_uri": "https://localhost:8080/"
        },
        "id": "ywZULXx2tz5E",
        "outputId": "e9cf92fe-3308-47e1-cbe9-259102c94cb3"
      },
      "execution_count": 49,
      "outputs": [
        {
          "output_type": "stream",
          "name": "stdout",
          "text": [
            "Suppport Vector Regression Accuracy:  0.42732109214339775\n",
            "R2 square: 0.42732109214339775\n",
            "MAE:  0.4939625704091629\n",
            "MSE:  0.4998599939657776\n"
          ]
        }
      ]
    },
    {
      "cell_type": "code",
      "source": [
        "x_ax = range(len(y_test))\n",
        "plt.plot(x_ax, y_test, label = \"original\")\n",
        "plt.plot(x_ax, y_pred, label = \"predicted\")\n",
        "plt.title(\"XGBoost Regressor test and predicted data\")\n",
        "plt.legend()\n",
        "plt.show()"
      ],
      "metadata": {
        "colab": {
          "base_uri": "https://localhost:8080/",
          "height": 284
        },
        "id": "6d2QJ7v0u2Rg",
        "outputId": "c4b31061-ee75-47d8-c3b5-8ca5f354f7dd"
      },
      "execution_count": 50,
      "outputs": [
        {
          "output_type": "display_data",
          "data": {
            "text/plain": [
              "<Figure size 432x288 with 1 Axes>"
            ],
            "image/png": "[encoded data removed]"
          },
          "metadata": {
            "needs_background": "light"
          }
        }
      ]
    },
    {
      "cell_type": "markdown",
      "source": [
        "#### Result Plot\n",
        "\n",
        "Before creating value's dataframe, let's check the type of the dictionaries."
      ],
      "metadata": {
        "id": "aV1JfuvkkwDd"
      }
    },
    {
      "cell_type": "code",
      "source": [
        "print(type(names))\n",
        "print(type(R2_square))\n",
        "print(type(mae_score))\n",
        "print(type(mse_score))"
      ],
      "metadata": {
        "colab": {
          "base_uri": "https://localhost:8080/"
        },
        "id": "mo4t_OAjwjm2",
        "outputId": "e5bd9860-06a7-4c08-aa5c-deb6f4169626"
      },
      "execution_count": 51,
      "outputs": [
        {
          "output_type": "stream",
          "name": "stdout",
          "text": [
            "<class 'list'>\n",
            "<class 'list'>\n",
            "<class 'list'>\n",
            "<class 'list'>\n"
          ]
        }
      ]
    },
    {
      "cell_type": "code",
      "source": [
        "pd.DataFrame(list(zip(names, R2_square, mae_score, mse_score)),\n",
        "             columns =['Regression Type', 'R Square', 'MAE Score', 'MSE Score'])"
      ],
      "metadata": {
        "colab": {
          "base_uri": "https://localhost:8080/",
          "height": 363
        },
        "id": "btfCEUJXgEOW",
        "outputId": "bc83b130-b4f4-4704-c7f3-9c7141574e44"
      },
      "execution_count": 52,
      "outputs": [
        {
          "output_type": "execute_result",
          "data": {
            "text/plain": [
              "                Regression Type  R Square  MAE Score  MSE Score\n",
              "0             Linear Regression -0.022379   0.708910   0.892378\n",
              "1              Ridge Regression -0.018360   0.707795   0.888871\n",
              "2              Lasso Regression -0.006425   0.730417   0.878453\n",
              "3     Support Vector Regression  0.328618   0.520596   0.586013\n",
              "4                 Decision Tree -0.139428   0.601428   0.994544\n",
              "5                 Random Forest  0.439115   0.457892   0.489566\n",
              "6  Random Forest Hyperparamater  0.458922   0.459522   0.472277\n",
              "7             Bagging Regressor  0.444608   0.455912   0.484771\n",
              "8             Gradient Boosting  0.364647   0.501538   0.554565\n",
              "9                      XG Boost  0.427321   0.493963   0.499860"
            ],
            "text/html": [
              "\n",
              "  <div id=\"df-c8170c60-7959-4cfe-9aa1-8c3185150e29\">\n",
              "    <div class=\"colab-df-container\">\n",
              "      <div>\n",
              "<style scoped>\n",
              "    .dataframe tbody tr th:only-of-type {\n",
              "        vertical-align: middle;\n",
              "    }\n",
              "\n",
              "    .dataframe tbody tr th {\n",
              "        vertical-align: top;\n",
              "    }\n",
              "\n",
              "    .dataframe thead th {\n",
              "        text-align: right;\n",
              "    }\n",
              "</style>\n",
              "<table border=\"1\" class=\"dataframe\">\n",
              "  <thead>\n",
              "    <tr style=\"text-align: right;\">\n",
              "      <th></th>\n",
              "      <th>Regression Type</th>\n",
              "      <th>R Square</th>\n",
              "      <th>MAE Score</th>\n",
              "      <th>MSE Score</th>\n",
              "    </tr>\n",
              "  </thead>\n",
              "  <tbody>\n",
              "    <tr>\n",
              "      <th>0</th>\n",
              "      <td>Linear Regression</td>\n",
              "      <td>-0.022379</td>\n",
              "      <td>0.708910</td>\n",
              "      <td>0.892378</td>\n",
              "    </tr>\n",
              "    <tr>\n",
              "      <th>1</th>\n",
              "      <td>Ridge Regression</td>\n",
              "      <td>-0.018360</td>\n",
              "      <td>0.707795</td>\n",
              "      <td>0.888871</td>\n",
              "    </tr>\n",
              "    <tr>\n",
              "      <th>2</th>\n",
              "      <td>Lasso Regression</td>\n",
              "      <td>-0.006425</td>\n",
              "      <td>0.730417</td>\n",
              "      <td>0.878453</td>\n",
              "    </tr>\n",
              "    <tr>\n",
              "      <th>3</th>\n",
              "      <td>Support Vector Regression</td>\n",
              "      <td>0.328618</td>\n",
              "      <td>0.520596</td>\n",
              "      <td>0.586013</td>\n",
              "    </tr>\n",
              "    <tr>\n",
              "      <th>4</th>\n",
              "      <td>Decision Tree</td>\n",
              "      <td>-0.139428</td>\n",
              "      <td>0.601428</td>\n",
              "      <td>0.994544</td>\n",
              "    </tr>\n",
              "    <tr>\n",
              "      <th>5</th>\n",
              "      <td>Random Forest</td>\n",
              "      <td>0.439115</td>\n",
              "      <td>0.457892</td>\n",
              "      <td>0.489566</td>\n",
              "    </tr>\n",
              "    <tr>\n",
              "      <th>6</th>\n",
              "      <td>Random Forest Hyperparamater</td>\n",
              "      <td>0.458922</td>\n",
              "      <td>0.459522</td>\n",
              "      <td>0.472277</td>\n",
              "    </tr>\n",
              "    <tr>\n",
              "      <th>7</th>\n",
              "      <td>Bagging Regressor</td>\n",
              "      <td>0.444608</td>\n",
              "      <td>0.455912</td>\n",
              "      <td>0.484771</td>\n",
              "    </tr>\n",
              "    <tr>\n",
              "      <th>8</th>\n",
              "      <td>Gradient Boosting</td>\n",
              "      <td>0.364647</td>\n",
              "      <td>0.501538</td>\n",
              "      <td>0.554565</td>\n",
              "    </tr>\n",
              "    <tr>\n",
              "      <th>9</th>\n",
              "      <td>XG Boost</td>\n",
              "      <td>0.427321</td>\n",
              "      <td>0.493963</td>\n",
              "      <td>0.499860</td>\n",
              "    </tr>\n",
              "  </tbody>\n",
              "</table>\n",
              "</div>\n",
              "      <button class=\"colab-df-convert\" onclick=\"convertToInteractive('df-c8170c60-7959-4cfe-9aa1-8c3185150e29')\"\n",
              "              title=\"Convert this dataframe to an interactive table.\"\n",
              "              style=\"display:none;\">\n",
              "        \n",
              "  <svg xmlns=\"http://www.w3.org/2000/svg\" height=\"24px\"viewBox=\"0 0 24 24\"\n",
              "       width=\"24px\">\n",
              "    <path d=\"M0 0h24v24H0V0z\" fill=\"none\"/>\n",
              "    <path d=\"M18.56 5.44l.94 2.06.94-2.06 2.06-.94-2.06-.94-.94-2.06-.94 2.06-2.06.94zm-11 1L8.5 8.5l.94-2.06 2.06-.94-2.06-.94L8.5 2.5l-.94 2.06-2.06.94zm10 10l.94 2.06.94-2.06 2.06-.94-2.06-.94-.94-2.06-.94 2.06-2.06.94z\"/><path d=\"M17.41 7.96l-1.37-1.37c-.4-.4-.92-.59-1.43-.59-.52 0-1.04.2-1.43.59L10.3 9.45l-7.72 7.72c-.78.78-.78 2.05 0 2.83L4 21.41c.39.39.9.59 1.41.59.51 0 1.02-.2 1.41-.59l7.78-7.78 2.81-2.81c.8-.78.8-2.07 0-2.86zM5.41 20L4 18.59l7.72-7.72 1.47 1.35L5.41 20z\"/>\n",
              "  </svg>\n",
              "      </button>\n",
              "      \n",
              "  <style>\n",
              "    .colab-df-container {\n",
              "      display:flex;\n",
              "      flex-wrap:wrap;\n",
              "      gap: 12px;\n",
              "    }\n",
              "\n",
              "    .colab-df-convert {\n",
              "      background-color: #E8F0FE;\n",
              "      border: none;\n",
              "      border-radius: 50%;\n",
              "      cursor: pointer;\n",
              "      display: none;\n",
              "      fill: #1967D2;\n",
              "      height: 32px;\n",
              "      padding: 0 0 0 0;\n",
              "      width: 32px;\n",
              "    }\n",
              "\n",
              "    .colab-df-convert:hover {\n",
              "      background-color: #E2EBFA;\n",
              "      box-shadow: 0px 1px 2px rgba(60, 64, 67, 0.3), 0px 1px 3px 1px rgba(60, 64, 67, 0.15);\n",
              "      fill: #174EA6;\n",
              "    }\n",
              "\n",
              "    [theme=dark] .colab-df-convert {\n",
              "      background-color: #3B4455;\n",
              "      fill: #D2E3FC;\n",
              "    }\n",
              "\n",
              "    [theme=dark] .colab-df-convert:hover {\n",
              "      background-color: #434B5C;\n",
              "      box-shadow: 0px 1px 3px 1px rgba(0, 0, 0, 0.15);\n",
              "      filter: drop-shadow(0px 1px 2px rgba(0, 0, 0, 0.3));\n",
              "      fill: #FFFFFF;\n",
              "    }\n",
              "  </style>\n",
              "\n",
              "      <script>\n",
              "        const buttonEl =\n",
              "          document.querySelector('#df-c8170c60-7959-4cfe-9aa1-8c3185150e29 button.colab-df-convert');\n",
              "        buttonEl.style.display =\n",
              "          google.colab.kernel.accessAllowed ? 'block' : 'none';\n",
              "\n",
              "        async function convertToInteractive(key) {\n",
              "          const element = document.querySelector('#df-c8170c60-7959-4cfe-9aa1-8c3185150e29');\n",
              "          const dataTable =\n",
              "            await google.colab.kernel.invokeFunction('convertToInteractive',\n",
              "                                                     [key], {});\n",
              "          if (!dataTable) return;\n",
              "\n",
              "          const docLinkHtml = 'Like what you see? Visit the ' +\n",
              "            '<a target=\"_blank\" href=https://colab.research.google.com/notebooks/data_table.ipynb>data table notebook</a>'\n",
              "            + ' to learn more about interactive tables.';\n",
              "          element.innerHTML = '';\n",
              "          dataTable['output_type'] = 'display_data';\n",
              "          await google.colab.output.renderOutput(dataTable, element);\n",
              "          const docLink = document.createElement('div');\n",
              "          docLink.innerHTML = docLinkHtml;\n",
              "          element.appendChild(docLink);\n",
              "        }\n",
              "      </script>\n",
              "    </div>\n",
              "  </div>\n",
              "  "
            ]
          },
          "metadata": {},
          "execution_count": 52
        }
      ]
    },
    {
      "cell_type": "markdown",
      "source": [
        "#### Conclusion\n",
        "\n",
        "From the result, it can be concluded that **Random Forest** with **Hyperparameter** tuning gives the best result for **Regression**,. Howeve, **Bagging Regression** also giving the best result comparing to **Random Forest** withouht **Hyperparameter Tuning**. So, the best is to use **Random Forest** with **Hyperparameter Tuning**.\n",
        "\n",
        "From the EDA, management really needs to review:\n",
        "\n",
        "*   `over_time`: the **overtime** number was higher, especially for **sewing** department\n",
        "*   `incentive`: from the chart, the **incentive** value wasn't distributed fairly. There were 2 teams who has higher overtime rate but didn't get the incentive.\n",
        "*   `wip`: from the graph, **wip** value for **finishing** were missing. Management should concern about this and reinput the missing values, or check why there were no wip for **finishing**.\n",
        "\n",
        "\n",
        "\n",
        "\n"
      ],
      "metadata": {
        "id": "TCevvnIeddnx"
      }
    }
  ]
}